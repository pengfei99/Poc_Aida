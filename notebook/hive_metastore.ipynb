{
 "cells": [
  {
   "cell_type": "code",
   "execution_count": 1,
   "id": "143604b6-5931-40ab-8b4b-5c926260902f",
   "metadata": {},
   "outputs": [],
   "source": [
    "from pyspark.sql import SparkSession\n",
    "import os"
   ]
  },
  {
   "cell_type": "code",
   "execution_count": 2,
   "id": "1240695d-53f7-4460-9571-5c99d6281351",
   "metadata": {},
   "outputs": [
    {
     "name": "stderr",
     "output_type": "stream",
     "text": [
      "WARNING: An illegal reflective access operation has occurred\n",
      "WARNING: Illegal reflective access by org.apache.spark.unsafe.Platform (file:/opt/spark/jars/spark-unsafe_2.12-3.2.1.jar) to constructor java.nio.DirectByteBuffer(long,int)\n",
      "WARNING: Please consider reporting this to the maintainers of org.apache.spark.unsafe.Platform\n",
      "WARNING: Use --illegal-access=warn to enable warnings of further illegal reflective access operations\n",
      "WARNING: All illegal access operations will be denied in a future release\n"
     ]
    },
    {
     "name": "stdout",
     "output_type": "stream",
     "text": [
      ":: loading settings :: url = jar:file:/opt/spark/jars/ivy-2.5.0.jar!/org/apache/ivy/core/settings/ivysettings.xml\n"
     ]
    },
    {
     "name": "stderr",
     "output_type": "stream",
     "text": [
      "Ivy Default Cache set to: /home/jovyan/.ivy2/cache\n",
      "The jars for the packages stored in: /home/jovyan/.ivy2/jars\n",
      "org.postgresql#postgresql added as a dependency\n",
      ":: resolving dependencies :: org.apache.spark#spark-submit-parent-f3071806-ba43-4163-826c-9ebf5aa0254a;1.0\n",
      "\tconfs: [default]\n",
      "\tfound org.postgresql#postgresql;42.2.24 in central\n",
      "\tfound org.checkerframework#checker-qual;3.5.0 in central\n",
      "downloading https://repo1.maven.org/maven2/org/postgresql/postgresql/42.2.24/postgresql-42.2.24.jar ...\n",
      "\t[SUCCESSFUL ] org.postgresql#postgresql;42.2.24!postgresql.jar (113ms)\n",
      "downloading https://repo1.maven.org/maven2/org/checkerframework/checker-qual/3.5.0/checker-qual-3.5.0.jar ...\n",
      "\t[SUCCESSFUL ] org.checkerframework#checker-qual;3.5.0!checker-qual.jar (25ms)\n",
      ":: resolution report :: resolve 462ms :: artifacts dl 142ms\n",
      "\t:: modules in use:\n",
      "\torg.checkerframework#checker-qual;3.5.0 from central in [default]\n",
      "\torg.postgresql#postgresql;42.2.24 from central in [default]\n",
      "\t---------------------------------------------------------------------\n",
      "\t|                  |            modules            ||   artifacts   |\n",
      "\t|       conf       | number| search|dwnlded|evicted|| number|dwnlded|\n",
      "\t---------------------------------------------------------------------\n",
      "\t|      default     |   2   |   2   |   2   |   0   ||   2   |   2   |\n",
      "\t---------------------------------------------------------------------\n",
      ":: retrieving :: org.apache.spark#spark-submit-parent-f3071806-ba43-4163-826c-9ebf5aa0254a\n",
      "\tconfs: [default]\n",
      "\t2 artifacts copied, 0 already retrieved (1192kB/6ms)\n",
      "2022-05-30 13:46:10,911 WARN util.NativeCodeLoader: Unable to load native-hadoop library for your platform... using builtin-java classes where applicable\n",
      "Setting default log level to \"WARN\".\n",
      "To adjust logging level use sc.setLogLevel(newLevel). For SparkR, use setLogLevel(newLevel).\n",
      "2022-05-30 13:46:12,864 WARN spark.ExecutorAllocationManager: Dynamic allocation without a shuffle service is an experimental feature.\n"
     ]
    }
   ],
   "source": [
    "local=False\n",
    "if local:\n",
    "    spark=SparkSession.builder.master(\"local[4]\") \\\n",
    "                  .appName(\"aida_poc_etl\").getOrCreate()\n",
    "else:\n",
    "    spark=SparkSession.builder \\\n",
    "                      .master(\"k8s://https://kubernetes.default.svc:443\") \\\n",
    "                      .appName(\"aida_poc_etl\") \\\n",
    "                      .config(\"spark.kubernetes.container.image\",os.environ[\"IMAGE_NAME\"]) \\\n",
    "                      .config(\"spark.kubernetes.authenticate.driver.serviceAccountName\",os.environ['KUBERNETES_SERVICE_ACCOUNT']) \\\n",
    "                      .config(\"spark.kubernetes.namespace\", os.environ['KUBERNETES_NAMESPACE']) \\\n",
    "                      .config(\"spark.executor.instances\", \"10\") \\\n",
    "                      .config(\"spark.executor.memory\",\"16g\") \\\n",
    "                      .config(\"spark.driver.memory\",\"32g\") \\\n",
    "                      .config('spark.jars.packages','org.postgresql:postgresql:42.2.24') \\\n",
    "                      .enableHiveSupport() \\\n",
    "                      .getOrCreate()"
   ]
  },
  {
   "cell_type": "code",
   "execution_count": 3,
   "id": "ae8c419b-2e38-4ee7-8d6f-4a3e7faefcca",
   "metadata": {},
   "outputs": [],
   "source": [
    "work_dir=\"s3a://projet-poc-aida/rp\"\n",
    "parquet_file_name=\"individus_snappy_parquet\"\n",
    "data_path=f\"{work_dir}/{parquet_file_name}\""
   ]
  },
  {
   "cell_type": "markdown",
   "id": "beab0756-bd7a-41f6-bf38-70289420610f",
   "metadata": {},
   "source": [
    "# Step 1: Prepare source dataframe\n",
    "\n",
    "Use spark context to read a parquet file and return a data frame "
   ]
  },
  {
   "cell_type": "code",
   "execution_count": 4,
   "id": "d1731e55-b6f7-4b93-ae85-0695405013e1",
   "metadata": {},
   "outputs": [
    {
     "name": "stderr",
     "output_type": "stream",
     "text": [
      "                                                                                \r"
     ]
    }
   ],
   "source": [
    "df_parquet=spark.read.parquet(data_path)"
   ]
  },
  {
   "cell_type": "code",
   "execution_count": 11,
   "id": "74a6b079-e3d1-4503-9c30-aa11d888d8a0",
   "metadata": {},
   "outputs": [
    {
     "name": "stderr",
     "output_type": "stream",
     "text": [
      "[Stage 8:>                                                          (0 + 1) / 1]\r"
     ]
    },
    {
     "name": "stdout",
     "output_type": "stream",
     "text": [
      "+----------------+---------------------+-----------------+--------------+-------------------+---------------+------------------+-------------+--------------+------------------+----+----------+-------+----------------+-------+---+---------------+----------+----------+----------+----------+----------+----------+----------+----------+----------+----------+----------+----------+----------+----------+----------+----------+----------+----------+----------+----------+----------+----------+----------+----------+----------+----------+----------+----------+----------+----------+----------+----------+----------+----------+----------+----------+----------+----------+----------+----------+----------+----------+----------+----------+----------+----------+----------+----------+----------+\n",
      "|region_residence|departement_residence|commune_residence|region_travail|departement_travail|commune_travail|commune_anterieure|commune_etude|pays_naissance|             poids|sexe|statut_pro|densite|recherche_emploi|diplome|age|     variable00|variable01|variable02|variable03|variable04|variable05|variable06|variable07|variable08|variable09|variable10|variable11|variable12|variable13|variable14|variable15|variable16|variable17|variable18|variable19|variable20|variable21|variable22|variable23|variable24|variable25|variable26|variable27|variable28|variable29|variable30|variable31|variable32|variable33|variable34|variable35|variable36|variable37|variable38|variable39|variable40|variable41|variable42|variable43|variable44|variable45|variable46|variable47|variable48|variable49|\n",
      "+----------------+---------------------+-----------------+--------------+-------------------+---------------+------------------+-------------+--------------+------------------+----+----------+-------+----------------+-------+---+---------------+----------+----------+----------+----------+----------+----------+----------+----------+----------+----------+----------+----------+----------+----------+----------+----------+----------+----------+----------+----------+----------+----------+----------+----------+----------+----------+----------+----------+----------+----------+----------+----------+----------+----------+----------+----------+----------+----------+----------+----------+----------+----------+----------+----------+----------+----------+----------+----------+----------+\n",
      "|              44|                   51|            51265|            44|                 51|          51265|             51265|        51265|            31|1.2622272766699092|   2|         Z|      3|               2|      0|  4|930660000002340|         1|         6|      9316|  652242.5| 6871102.2|         2|      2017|         1|      1989|         5|         9|     28027|        27|        27|         2|     75113|       999|         1|        11|         2|         2|       111|       111|         1|       ZZZ|       997|         0|       997|         1|         2|         2|         Z|     YYYYY|     ZZZZZ|         2|     93055|     99999|        16|        16|        1G|         Z|         1|         0| 930660902|         1|     93066|       999|       999|         6|\n",
      "|              28|                   61|            61493|            28|                 61|          61493|             61493|        61493|            99| 0.829950240429891|   1|         Z|      4|               0|      1|  6|930660000002340|         1|         6|      9316|  652242.5| 6871102.2|         2|      2017|         1|      1989|         5|         9|     28027|        27|        27|         2|     75113|       999|         1|        11|         2|         2|       111|       111|         1|       ZZZ|       997|         0|       997|         1|         2|         2|         Z|     YYYYY|     ZZZZZ|         2|     93055|     99999|        16|        16|        1G|         Z|         1|         0| 930660902|         1|     93066|       999|       999|         6|\n",
      "|              32|                   59|            59019|            32|                 59|          59019|             59019|        59019|            51|1.1022629424168937|   2|         Z|      3|               1|      4|  6|930660000002340|         1|         6|      9316|  652242.5| 6871102.2|         2|      2017|         1|      1989|         5|         9|     28027|        27|        27|         2|     75113|       999|         1|        11|         2|         2|       111|       111|         1|       ZZZ|       997|         0|       997|         1|         2|         2|         Z|     YYYYY|     ZZZZZ|         2|     93055|     99999|        16|        16|        1G|         Z|         1|         0| 930660902|         1|     93066|       999|       999|         6|\n",
      "|              84|                   74|            74191|            44|                 08|          08191|             74191|        74191|            41|0.5779705758148307|   1|         Z|      3|               0|      6|  3|930660000002340|         1|         6|      9316|  652242.5| 6871102.2|         2|      2017|         1|      1989|         5|         9|     28027|        27|        27|         2|     75113|       999|         1|        11|         2|         2|       111|       111|         1|       ZZZ|       997|         0|       997|         1|         2|         2|         Z|     YYYYY|     ZZZZZ|         2|     93055|     99999|        16|        16|        1G|         Z|         1|         0| 930660902|         1|     93066|       999|       999|         6|\n",
      "|              44|                   10|            10027|            44|                 10|          10027|             10027|        10027|            21|0.6162201484479796|   1|         2|      4|               2|      6|  1|930660000002340|         1|         6|      9316|  652242.5| 6871102.2|         2|      2017|         1|      1989|         5|         9|     28027|        27|        27|         2|     75113|       999|         1|        11|         2|         2|       111|       111|         1|       ZZZ|       997|         0|       997|         1|         2|         2|         Z|     YYYYY|     ZZZZZ|         2|     93055|     99999|        16|        16|        1G|         Z|         1|         0| 930660902|         1|     93066|       999|       999|         6|\n",
      "+----------------+---------------------+-----------------+--------------+-------------------+---------------+------------------+-------------+--------------+------------------+----+----------+-------+----------------+-------+---+---------------+----------+----------+----------+----------+----------+----------+----------+----------+----------+----------+----------+----------+----------+----------+----------+----------+----------+----------+----------+----------+----------+----------+----------+----------+----------+----------+----------+----------+----------+----------+----------+----------+----------+----------+----------+----------+----------+----------+----------+----------+----------+----------+----------+----------+----------+----------+----------+----------+----------+\n",
      "only showing top 5 rows\n",
      "\n"
     ]
    },
    {
     "name": "stderr",
     "output_type": "stream",
     "text": [
      "                                                                                \r"
     ]
    }
   ],
   "source": [
    "df_parquet.show(5)"
   ]
  },
  {
   "cell_type": "markdown",
   "id": "fd1b3e5b-ecd3-4cd6-b674-c619c84fbc19",
   "metadata": {},
   "source": [
    "# Step2: Create a table in hive metastore\n",
    "\n",
    "Use the spark dataframe to create a hive table in the hive metastore. So we can reuse it for later. \n"
   ]
  },
  {
   "cell_type": "code",
   "execution_count": 6,
   "id": "bae3b20b-ffcb-4860-bd98-b1eb0684d7df",
   "metadata": {},
   "outputs": [],
   "source": [
    "table_name=\"individus_test\""
   ]
  },
  {
   "cell_type": "code",
   "execution_count": 7,
   "id": "c5df66c6-e677-4081-84ab-9c302030a656",
   "metadata": {},
   "outputs": [
    {
     "name": "stderr",
     "output_type": "stream",
     "text": [
      "2022-05-30 13:47:32,590 WARN session.SessionState: METASTORE_FILTER_HOOK will be ignored, since hive.security.authorization.manager is set to instance of HiveAuthorizerFactory.\n"
     ]
    },
    {
     "data": {
      "text/plain": [
       "DataFrame[]"
      ]
     },
     "execution_count": 7,
     "metadata": {},
     "output_type": "execute_result"
    }
   ],
   "source": [
    "schema_str = ', '.join([' '.join(x) for x in df_parquet.dtypes])\n",
    "\n",
    "spark.sql(f\"\"\"\n",
    "CREATE EXTERNAL TABLE IF NOT EXISTS {table_name}\n",
    "({schema_str})\n",
    "STORED as parquet LOCATION '{data_path}'\n",
    "\"\"\")\n"
   ]
  },
  {
   "cell_type": "code",
   "execution_count": 8,
   "id": "fbe9ee03-c83a-43db-b8a3-1a65f3c2c282",
   "metadata": {},
   "outputs": [
    {
     "name": "stdout",
     "output_type": "stream",
     "text": [
      "+---------+--------------+-----------+\n",
      "|namespace|     tableName|isTemporary|\n",
      "+---------+--------------+-----------+\n",
      "|  default|     individus|      false|\n",
      "|  default|individus_test|      false|\n",
      "+---------+--------------+-----------+\n",
      "\n"
     ]
    }
   ],
   "source": [
    "spark.sql('show tables;').show()"
   ]
  },
  {
   "cell_type": "markdown",
   "id": "155fbab0-b7ab-425b-b187-bada38a8b5fd",
   "metadata": {},
   "source": [
    "Now your hive table has been created. In the backgroud, if you enabled the listener, the metadata of this hive table will be uploaded to our [data catalog](https://atlas.lab.sspcloud.fr/index.html#!/search). So you can find all your hive table easily even you don't have notebook anymore.\n",
    "\n",
    "You can try to use the search engine of our [data catalog](https://atlas.lab.sspcloud.fr/index.html#!/search) to find your table. "
   ]
  },
  {
   "cell_type": "code",
   "execution_count": 9,
   "id": "f4480a72-9c1c-4d91-bb30-2b7503d0b66c",
   "metadata": {},
   "outputs": [
    {
     "name": "stderr",
     "output_type": "stream",
     "text": [
      "[Stage 4:====================================================>    (12 + 1) / 13]\r"
     ]
    },
    {
     "name": "stdout",
     "output_type": "stream",
     "text": [
      "+----------------+---------------------+-----------------+--------------+-------------------+---------------+------------------+-------------+--------------+------------------+----+----------+-------+----------------+-------+---+---------------+----------+----------+----------+----------+----------+----------+----------+----------+----------+----------+----------+----------+----------+----------+----------+----------+----------+----------+----------+----------+----------+----------+----------+----------+----------+----------+----------+----------+----------+----------+----------+----------+----------+----------+----------+----------+----------+----------+----------+----------+----------+----------+----------+----------+----------+----------+----------+----------+----------+\n",
      "|region_residence|departement_residence|commune_residence|region_travail|departement_travail|commune_travail|commune_anterieure|commune_etude|pays_naissance|             poids|sexe|statut_pro|densite|recherche_emploi|diplome|age|     variable00|variable01|variable02|variable03|variable04|variable05|variable06|variable07|variable08|variable09|variable10|variable11|variable12|variable13|variable14|variable15|variable16|variable17|variable18|variable19|variable20|variable21|variable22|variable23|variable24|variable25|variable26|variable27|variable28|variable29|variable30|variable31|variable32|variable33|variable34|variable35|variable36|variable37|variable38|variable39|variable40|variable41|variable42|variable43|variable44|variable45|variable46|variable47|variable48|variable49|\n",
      "+----------------+---------------------+-----------------+--------------+-------------------+---------------+------------------+-------------+--------------+------------------+----+----------+-------+----------------+-------+---+---------------+----------+----------+----------+----------+----------+----------+----------+----------+----------+----------+----------+----------+----------+----------+----------+----------+----------+----------+----------+----------+----------+----------+----------+----------+----------+----------+----------+----------+----------+----------+----------+----------+----------+----------+----------+----------+----------+----------+----------+----------+----------+----------+----------+----------+----------+----------+----------+----------+----------+\n",
      "|              44|                   51|            51265|            44|                 51|          51265|             51265|        51265|            31|1.2622272766699092|   2|         Z|      3|               2|      0|  4|930660000002340|         1|         6|      9316|  652242.5| 6871102.2|         2|      2017|         1|      1989|         5|         9|     28027|        27|        27|         2|     75113|       999|         1|        11|         2|         2|       111|       111|         1|       ZZZ|       997|         0|       997|         1|         2|         2|         Z|     YYYYY|     ZZZZZ|         2|     93055|     99999|        16|        16|        1G|         Z|         1|         0| 930660902|         1|     93066|       999|       999|         6|\n",
      "|              28|                   61|            61493|            28|                 61|          61493|             61493|        61493|            99| 0.829950240429891|   1|         Z|      4|               0|      1|  6|930660000002340|         1|         6|      9316|  652242.5| 6871102.2|         2|      2017|         1|      1989|         5|         9|     28027|        27|        27|         2|     75113|       999|         1|        11|         2|         2|       111|       111|         1|       ZZZ|       997|         0|       997|         1|         2|         2|         Z|     YYYYY|     ZZZZZ|         2|     93055|     99999|        16|        16|        1G|         Z|         1|         0| 930660902|         1|     93066|       999|       999|         6|\n",
      "|              32|                   59|            59019|            32|                 59|          59019|             59019|        59019|            51|1.1022629424168937|   2|         Z|      3|               1|      4|  6|930660000002340|         1|         6|      9316|  652242.5| 6871102.2|         2|      2017|         1|      1989|         5|         9|     28027|        27|        27|         2|     75113|       999|         1|        11|         2|         2|       111|       111|         1|       ZZZ|       997|         0|       997|         1|         2|         2|         Z|     YYYYY|     ZZZZZ|         2|     93055|     99999|        16|        16|        1G|         Z|         1|         0| 930660902|         1|     93066|       999|       999|         6|\n",
      "|              84|                   74|            74191|            44|                 08|          08191|             74191|        74191|            41|0.5779705758148307|   1|         Z|      3|               0|      6|  3|930660000002340|         1|         6|      9316|  652242.5| 6871102.2|         2|      2017|         1|      1989|         5|         9|     28027|        27|        27|         2|     75113|       999|         1|        11|         2|         2|       111|       111|         1|       ZZZ|       997|         0|       997|         1|         2|         2|         Z|     YYYYY|     ZZZZZ|         2|     93055|     99999|        16|        16|        1G|         Z|         1|         0| 930660902|         1|     93066|       999|       999|         6|\n",
      "|              44|                   10|            10027|            44|                 10|          10027|             10027|        10027|            21|0.6162201484479796|   1|         2|      4|               2|      6|  1|930660000002340|         1|         6|      9316|  652242.5| 6871102.2|         2|      2017|         1|      1989|         5|         9|     28027|        27|        27|         2|     75113|       999|         1|        11|         2|         2|       111|       111|         1|       ZZZ|       997|         0|       997|         1|         2|         2|         Z|     YYYYY|     ZZZZZ|         2|     93055|     99999|        16|        16|        1G|         Z|         1|         0| 930660902|         1|     93066|       999|       999|         6|\n",
      "+----------------+---------------------+-----------------+--------------+-------------------+---------------+------------------+-------------+--------------+------------------+----+----------+-------+----------------+-------+---+---------------+----------+----------+----------+----------+----------+----------+----------+----------+----------+----------+----------+----------+----------+----------+----------+----------+----------+----------+----------+----------+----------+----------+----------+----------+----------+----------+----------+----------+----------+----------+----------+----------+----------+----------+----------+----------+----------+----------+----------+----------+----------+----------+----------+----------+----------+----------+----------+----------+----------+\n",
      "\n"
     ]
    },
    {
     "name": "stderr",
     "output_type": "stream",
     "text": [
      "                                                                                \r"
     ]
    }
   ],
   "source": [
    "spark.sql(f\"\"\"SELECT * FROM {table_name} limit 5\"\"\").show()"
   ]
  },
  {
   "cell_type": "markdown",
   "id": "6ef6130d-146e-47fc-b264-a08418a33f9c",
   "metadata": {},
   "source": [
    "# Step 3. Drop table \n",
    "\n",
    "You can delete your table if you don't need it anymore. You will notice the metadata of the deleted table are `removed` from the data catalog too.  "
   ]
  },
  {
   "cell_type": "code",
   "execution_count": 10,
   "id": "6f4d2753-af8b-4203-b4c4-bd79b7c39954",
   "metadata": {},
   "outputs": [
    {
     "name": "stdout",
     "output_type": "stream",
     "text": [
      "++\n",
      "||\n",
      "++\n",
      "++\n",
      "\n",
      "+---------+---------+-----------+\n",
      "|namespace|tableName|isTemporary|\n",
      "+---------+---------+-----------+\n",
      "|  default|individus|      false|\n",
      "+---------+---------+-----------+\n",
      "\n"
     ]
    }
   ],
   "source": [
    "spark.sql(f\"\"\"drop table if exists {table_name}\"\"\").show()\n",
    "spark.sql('show tables;').show()"
   ]
  },
  {
   "cell_type": "code",
   "execution_count": null,
   "id": "84e1c0d2-4dbf-447a-b80b-34a52d2d07a2",
   "metadata": {},
   "outputs": [],
   "source": []
  }
 ],
 "metadata": {
  "kernelspec": {
   "display_name": "Python 3 (ipykernel)",
   "language": "python",
   "name": "python3"
  },
  "language_info": {
   "codemirror_mode": {
    "name": "ipython",
    "version": 3
   },
   "file_extension": ".py",
   "mimetype": "text/x-python",
   "name": "python",
   "nbconvert_exporter": "python",
   "pygments_lexer": "ipython3",
   "version": "3.9.12"
  }
 },
 "nbformat": 4,
 "nbformat_minor": 5
}
