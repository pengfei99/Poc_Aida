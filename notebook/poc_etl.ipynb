{
 "cells": [
  {
   "cell_type": "code",
   "execution_count": 1,
   "id": "26ba3cd4-95ac-433f-80e3-18b6966bada5",
   "metadata": {},
   "outputs": [],
   "source": [
    "from pyspark.sql import SparkSession\n",
    "import os"
   ]
  },
  {
   "cell_type": "code",
   "execution_count": 2,
   "id": "8f469701-1df3-4e06-8364-549002c22318",
   "metadata": {},
   "outputs": [
    {
     "name": "stderr",
     "output_type": "stream",
     "text": [
      "WARNING: An illegal reflective access operation has occurred\n",
      "WARNING: Illegal reflective access by org.apache.spark.unsafe.Platform (file:/opt/spark/jars/spark-unsafe_2.12-3.2.1.jar) to constructor java.nio.DirectByteBuffer(long,int)\n",
      "WARNING: Please consider reporting this to the maintainers of org.apache.spark.unsafe.Platform\n",
      "WARNING: Use --illegal-access=warn to enable warnings of further illegal reflective access operations\n",
      "WARNING: All illegal access operations will be denied in a future release\n"
     ]
    },
    {
     "name": "stdout",
     "output_type": "stream",
     "text": [
      ":: loading settings :: url = jar:file:/opt/spark/jars/ivy-2.5.0.jar!/org/apache/ivy/core/settings/ivysettings.xml\n"
     ]
    },
    {
     "name": "stderr",
     "output_type": "stream",
     "text": [
      "Ivy Default Cache set to: /home/jovyan/.ivy2/cache\n",
      "The jars for the packages stored in: /home/jovyan/.ivy2/jars\n",
      "org.postgresql#postgresql added as a dependency\n",
      ":: resolving dependencies :: org.apache.spark#spark-submit-parent-c5e5e4c0-877f-42b2-99ff-64647e08e4a8;1.0\n",
      "\tconfs: [default]\n",
      "\tfound org.postgresql#postgresql;42.2.24 in central\n",
      "\tfound org.checkerframework#checker-qual;3.5.0 in central\n",
      "downloading https://repo1.maven.org/maven2/org/postgresql/postgresql/42.2.24/postgresql-42.2.24.jar ...\n",
      "\t[SUCCESSFUL ] org.postgresql#postgresql;42.2.24!postgresql.jar (117ms)\n",
      "downloading https://repo1.maven.org/maven2/org/checkerframework/checker-qual/3.5.0/checker-qual-3.5.0.jar ...\n",
      "\t[SUCCESSFUL ] org.checkerframework#checker-qual;3.5.0!checker-qual.jar (23ms)\n",
      ":: resolution report :: resolve 1914ms :: artifacts dl 144ms\n",
      "\t:: modules in use:\n",
      "\torg.checkerframework#checker-qual;3.5.0 from central in [default]\n",
      "\torg.postgresql#postgresql;42.2.24 from central in [default]\n",
      "\t---------------------------------------------------------------------\n",
      "\t|                  |            modules            ||   artifacts   |\n",
      "\t|       conf       | number| search|dwnlded|evicted|| number|dwnlded|\n",
      "\t---------------------------------------------------------------------\n",
      "\t|      default     |   2   |   2   |   2   |   0   ||   2   |   2   |\n",
      "\t---------------------------------------------------------------------\n",
      ":: retrieving :: org.apache.spark#spark-submit-parent-c5e5e4c0-877f-42b2-99ff-64647e08e4a8\n",
      "\tconfs: [default]\n",
      "\t2 artifacts copied, 0 already retrieved (1192kB/18ms)\n",
      "2022-05-30 09:27:39,424 WARN util.NativeCodeLoader: Unable to load native-hadoop library for your platform... using builtin-java classes where applicable\n",
      "Setting default log level to \"WARN\".\n",
      "To adjust logging level use sc.setLogLevel(newLevel). For SparkR, use setLogLevel(newLevel).\n",
      "2022-05-30 09:27:41,500 WARN spark.ExecutorAllocationManager: Dynamic allocation without a shuffle service is an experimental feature.\n"
     ]
    }
   ],
   "source": [
    "local=False\n",
    "if local:\n",
    "    spark=SparkSession.builder.master(\"local[4]\") \\\n",
    "                  .appName(\"aida_poc_etl\").getOrCreate()\n",
    "else:\n",
    "    spark=SparkSession.builder \\\n",
    "                      .master(\"k8s://https://kubernetes.default.svc:443\") \\\n",
    "                      .appName(\"aida_poc_etl\") \\\n",
    "                      .config(\"spark.kubernetes.container.image\",os.environ[\"IMAGE_NAME\"]) \\\n",
    "                      .config(\"spark.kubernetes.authenticate.driver.serviceAccountName\",os.environ['KUBERNETES_SERVICE_ACCOUNT']) \\\n",
    "                      .config(\"spark.kubernetes.namespace\", os.environ['KUBERNETES_NAMESPACE']) \\\n",
    "                      .config(\"spark.executor.instances\", \"10\") \\\n",
    "                      .config(\"spark.executor.memory\",\"16g\") \\\n",
    "                      .config(\"spark.driver.memory\",\"32g\") \\\n",
    "                      .config('spark.jars.packages','org.postgresql:postgresql:42.2.24') \\\n",
    "                      .enableHiveSupport() \\\n",
    "                      .getOrCreate()"
   ]
  },
  {
   "cell_type": "code",
   "execution_count": 3,
   "id": "cb409d53-4dde-4ada-b8f3-562363b6822d",
   "metadata": {},
   "outputs": [],
   "source": [
    "work_dir=\"s3a://projet-poc-aida/rp\"\n",
    "file_name=\"individus.csv\"\n",
    "file_path=f\"{work_dir}/{file_name}\"\n"
   ]
  },
  {
   "cell_type": "code",
   "execution_count": null,
   "id": "13d97926-f12b-4e38-9f72-2d9c89d87f90",
   "metadata": {},
   "outputs": [],
   "source": [
    "# use option\n",
    "df=spark.read\\\n",
    "    .option(\"header\",True)\\\n",
    "    .option(\"inferSchema\", True) \\\n",
    "    .option(\"delimiter\",';') \\\n",
    "    .csv(path=file_path)"
   ]
  },
  {
   "cell_type": "code",
   "execution_count": 5,
   "id": "4bbdb9ee-f8ac-4218-bf99-d9b6b2f078e7",
   "metadata": {},
   "outputs": [
    {
     "name": "stderr",
     "output_type": "stream",
     "text": [
      "2022-04-27 13:41:32,295 WARN util.package: Truncated the string representation of a plan since it was too large. This behavior can be adjusted by setting 'spark.sql.debug.maxToStringFields'.\n",
      "                                                                                \r"
     ]
    },
    {
     "name": "stdout",
     "output_type": "stream",
     "text": [
      "+----------------+---------------------+-----------------+--------------+-------------------+---------------+------------------+-------------+--------------+------------------+----+----------+-------+----------------+-------+---+---------------+----------+----------+----------+----------+----------+----------+----------+----------+----------+----------+----------+----------+----------+----------+----------+----------+----------+----------+----------+----------+----------+----------+----------+----------+----------+----------+----------+----------+----------+----------+----------+----------+----------+----------+----------+----------+----------+----------+----------+----------+----------+----------+----------+----------+----------+----------+----------+----------+----------+\n",
      "|region_residence|departement_residence|commune_residence|region_travail|departement_travail|commune_travail|commune_anterieure|commune_etude|pays_naissance|poids             |sexe|statut_pro|densite|recherche_emploi|diplome|age|variable00     |variable01|variable02|variable03|variable04|variable05|variable06|variable07|variable08|variable09|variable10|variable11|variable12|variable13|variable14|variable15|variable16|variable17|variable18|variable19|variable20|variable21|variable22|variable23|variable24|variable25|variable26|variable27|variable28|variable29|variable30|variable31|variable32|variable33|variable34|variable35|variable36|variable37|variable38|variable39|variable40|variable41|variable42|variable43|variable44|variable45|variable46|variable47|variable48|variable49|\n",
      "+----------------+---------------------+-----------------+--------------+-------------------+---------------+------------------+-------------+--------------+------------------+----+----------+-------+----------------+-------+---+---------------+----------+----------+----------+----------+----------+----------+----------+----------+----------+----------+----------+----------+----------+----------+----------+----------+----------+----------+----------+----------+----------+----------+----------+----------+----------+----------+----------+----------+----------+----------+----------+----------+----------+----------+----------+----------+----------+----------+----------+----------+----------+----------+----------+----------+----------+----------+----------+----------+----------+\n",
      "|53              |22                   |22170            |53            |22                 |22170          |22170             |22170        |99            |1.197604824388689 |2   |Z         |3      |0               |2      |3  |930660000002340|1         |6         |9316      |652242.5  |6871102.2 |2         |2017      |1         |1989      |5         |9         |28027     |27        |27        |2         |75113     |999       |1         |11        |2         |2         |111       |111       |1         |ZZZ       |997       |0         |997       |1         |2         |2         |Z         |YYYYY     |ZZZZZ     |2         |93055     |99999     |16        |16        |1G        |Z         |1         |0         |930660902 |1         |93066     |999       |999       |6         |\n",
      "|75              |17                   |17082            |27            |71                 |71388          |17082             |17082        |41            |1.2372214738347511|1   |Z         |3      |0               |6      |9  |930660000002340|1         |6         |9316      |652242.5  |6871102.2 |2         |2017      |1         |1989      |5         |9         |28027     |27        |27        |2         |75113     |999       |1         |11        |2         |2         |111       |111       |1         |ZZZ       |997       |0         |997       |1         |2         |2         |Z         |YYYYY     |ZZZZZ     |2         |93055     |99999     |16        |16        |1G        |Z         |1         |0         |930660902 |1         |93066     |999       |999       |6         |\n",
      "|84              |38                   |38002            |84            |38                 |38002          |38002             |38002        |12            |0.5948016605623568|1   |1         |3      |2               |6      |1  |930660000002340|1         |6         |9316      |652242.5  |6871102.2 |2         |2017      |1         |1989      |5         |9         |28027     |27        |27        |2         |75113     |999       |1         |11        |2         |2         |111       |111       |1         |ZZZ       |997       |0         |997       |1         |2         |2         |Z         |YYYYY     |ZZZZZ     |2         |93055     |99999     |16        |16        |1G        |Z         |1         |0         |930660902 |1         |93066     |999       |999       |6         |\n",
      "|75              |17                   |17377            |75            |17                 |17377          |17377             |17377        |51            |1.1798062245499321|1   |2         |4      |1               |1      |3  |930660000002340|1         |6         |9316      |652242.5  |6871102.2 |2         |2017      |1         |1989      |5         |9         |28027     |27        |27        |2         |75113     |999       |1         |11        |2         |2         |111       |111       |1         |ZZZ       |997       |0         |997       |1         |2         |2         |Z         |YYYYY     |ZZZZZ     |2         |93055     |99999     |16        |16        |1G        |Z         |1         |0         |930660902 |1         |93066     |999       |999       |6         |\n",
      "|24              |36                   |36189            |84            |43                 |43125          |36189             |36189        |99            |0.8898426903110267|1   |1         |3      |2               |1      |2  |930660000002340|1         |6         |9316      |652242.5  |6871102.2 |2         |2017      |1         |1989      |5         |9         |28027     |27        |27        |2         |75113     |999       |1         |11        |2         |2         |111       |111       |1         |ZZZ       |997       |0         |997       |1         |2         |2         |Z         |YYYYY     |ZZZZZ     |2         |93055     |99999     |16        |16        |1G        |Z         |1         |0         |930660902 |1         |93066     |999       |999       |6         |\n",
      "+----------------+---------------------+-----------------+--------------+-------------------+---------------+------------------+-------------+--------------+------------------+----+----------+-------+----------------+-------+---+---------------+----------+----------+----------+----------+----------+----------+----------+----------+----------+----------+----------+----------+----------+----------+----------+----------+----------+----------+----------+----------+----------+----------+----------+----------+----------+----------+----------+----------+----------+----------+----------+----------+----------+----------+----------+----------+----------+----------+----------+----------+----------+----------+----------+----------+----------+----------+----------+----------+----------+\n",
      "only showing top 5 rows\n",
      "\n"
     ]
    }
   ],
   "source": [
    "# df.cache()\n",
    "df.show(5,truncate=False)"
   ]
  },
  {
   "cell_type": "code",
   "execution_count": 8,
   "id": "561b7907-fbfd-4201-8d8c-ed53675cc439",
   "metadata": {},
   "outputs": [
    {
     "name": "stdout",
     "output_type": "stream",
     "text": [
      "Total Size: 14 GiB\n"
     ]
    }
   ],
   "source": [
    "! mc ls --summarize s3/projet-poc-aida/rp/individus.csv | grep \"Total Size\""
   ]
  },
  {
   "cell_type": "code",
   "execution_count": 9,
   "id": "d9d0b9d7-9b48-4eb2-b982-9d082a4396e2",
   "metadata": {},
   "outputs": [
    {
     "name": "stderr",
     "output_type": "stream",
     "text": [
      "                                                                                \r"
     ]
    },
    {
     "data": {
      "text/plain": [
       "50000000"
      ]
     },
     "execution_count": 9,
     "metadata": {},
     "output_type": "execute_result"
    }
   ],
   "source": [
    "df.count()"
   ]
  },
  {
   "cell_type": "code",
   "execution_count": 10,
   "id": "84433448-d167-490c-9876-da29b94a2481",
   "metadata": {},
   "outputs": [
    {
     "name": "stdout",
     "output_type": "stream",
     "text": [
      "root\n",
      " |-- region_residence: integer (nullable = true)\n",
      " |-- departement_residence: string (nullable = true)\n",
      " |-- commune_residence: string (nullable = true)\n",
      " |-- region_travail: integer (nullable = true)\n",
      " |-- departement_travail: string (nullable = true)\n",
      " |-- commune_travail: string (nullable = true)\n",
      " |-- commune_anterieure: string (nullable = true)\n",
      " |-- commune_etude: string (nullable = true)\n",
      " |-- pays_naissance: integer (nullable = true)\n",
      " |-- poids: double (nullable = true)\n",
      " |-- sexe: integer (nullable = true)\n",
      " |-- statut_pro: string (nullable = true)\n",
      " |-- densite: integer (nullable = true)\n",
      " |-- recherche_emploi: integer (nullable = true)\n",
      " |-- diplome: integer (nullable = true)\n",
      " |-- age: integer (nullable = true)\n",
      " |-- variable00: long (nullable = true)\n",
      " |-- variable01: integer (nullable = true)\n",
      " |-- variable02: integer (nullable = true)\n",
      " |-- variable03: integer (nullable = true)\n",
      " |-- variable04: double (nullable = true)\n",
      " |-- variable05: double (nullable = true)\n",
      " |-- variable06: integer (nullable = true)\n",
      " |-- variable07: integer (nullable = true)\n",
      " |-- variable08: integer (nullable = true)\n",
      " |-- variable09: integer (nullable = true)\n",
      " |-- variable10: integer (nullable = true)\n",
      " |-- variable11: integer (nullable = true)\n",
      " |-- variable12: integer (nullable = true)\n",
      " |-- variable13: integer (nullable = true)\n",
      " |-- variable14: integer (nullable = true)\n",
      " |-- variable15: integer (nullable = true)\n",
      " |-- variable16: integer (nullable = true)\n",
      " |-- variable17: integer (nullable = true)\n",
      " |-- variable18: integer (nullable = true)\n",
      " |-- variable19: integer (nullable = true)\n",
      " |-- variable20: integer (nullable = true)\n",
      " |-- variable21: integer (nullable = true)\n",
      " |-- variable22: integer (nullable = true)\n",
      " |-- variable23: integer (nullable = true)\n",
      " |-- variable24: integer (nullable = true)\n",
      " |-- variable25: string (nullable = true)\n",
      " |-- variable26: integer (nullable = true)\n",
      " |-- variable27: integer (nullable = true)\n",
      " |-- variable28: integer (nullable = true)\n",
      " |-- variable29: integer (nullable = true)\n",
      " |-- variable30: integer (nullable = true)\n",
      " |-- variable31: integer (nullable = true)\n",
      " |-- variable32: string (nullable = true)\n",
      " |-- variable33: string (nullable = true)\n",
      " |-- variable34: string (nullable = true)\n",
      " |-- variable35: integer (nullable = true)\n",
      " |-- variable36: integer (nullable = true)\n",
      " |-- variable37: integer (nullable = true)\n",
      " |-- variable38: integer (nullable = true)\n",
      " |-- variable39: integer (nullable = true)\n",
      " |-- variable40: string (nullable = true)\n",
      " |-- variable41: string (nullable = true)\n",
      " |-- variable42: integer (nullable = true)\n",
      " |-- variable43: integer (nullable = true)\n",
      " |-- variable44: integer (nullable = true)\n",
      " |-- variable45: integer (nullable = true)\n",
      " |-- variable46: integer (nullable = true)\n",
      " |-- variable47: integer (nullable = true)\n",
      " |-- variable48: integer (nullable = true)\n",
      " |-- variable49: integer (nullable = true)\n",
      "\n"
     ]
    }
   ],
   "source": [
    "df.printSchema()"
   ]
  },
  {
   "cell_type": "code",
   "execution_count": 11,
   "id": "d2835d4f-f6e3-47cd-8353-3263bae3ba5f",
   "metadata": {},
   "outputs": [
    {
     "name": "stdout",
     "output_type": "stream",
     "text": [
      "Data partition number: 109\n"
     ]
    }
   ],
   "source": [
    "partition_number=df.rdd.getNumPartitions()\n",
    "print(f\"Data partition number: {partition_number}\")"
   ]
  },
  {
   "cell_type": "markdown",
   "id": "e8fbd52f-4cae-4ef4-9f04-08187ba11fdc",
   "metadata": {},
   "source": [
    "# Step 1. Convert CSV to Parquet\n",
    "\n",
    "## 1.1 Write parquet with random partition"
   ]
  },
  {
   "cell_type": "code",
   "execution_count": 12,
   "id": "2cc13abd-cc24-436d-8582-5c2f6f272b2a",
   "metadata": {},
   "outputs": [
    {
     "name": "stderr",
     "output_type": "stream",
     "text": [
      "                                                                                \r"
     ]
    }
   ],
   "source": [
    "output_file=\"individus_snappy_parquet\"\n",
    "\n",
    "output_path=f\"{work_dir}/{output_file}\"\n",
    "\n",
    "df.write.mode(\"overwrite\").parquet(output_path)"
   ]
  },
  {
   "cell_type": "code",
   "execution_count": 11,
   "id": "79259771-c758-4d27-ab63-6ae7698b7ad0",
   "metadata": {},
   "outputs": [
    {
     "name": "stdout",
     "output_type": "stream",
     "text": [
      "Total Size: 1.1 GiB\n"
     ]
    }
   ],
   "source": [
    "! mc ls --summarize s3/projet-poc-aida/rp/individus_snappy_parquet | grep \"Total Size\""
   ]
  },
  {
   "cell_type": "markdown",
   "id": "dec04a96-bf23-42b8-9604-69453494654b",
   "metadata": {},
   "source": [
    "## 1.2 Write parquet with specific partition column\n",
    "\n",
    "Below example will partition the parquet file with the given column. It can be a list of columns "
   ]
  },
  {
   "cell_type": "code",
   "execution_count": 16,
   "id": "926a7108-9342-4888-986f-eef9106b2fe9",
   "metadata": {},
   "outputs": [],
   "source": [
    "partition_output_file=\"individus_partition_region\"\n",
    "col_name=\"region_residence\"\n",
    "\n",
    "partition_output_path=f\"{work_dir}/{partition_output_file}\""
   ]
  },
  {
   "cell_type": "code",
   "execution_count": 17,
   "id": "d663906e-01d3-49f6-ae1f-0b82c9ee43e1",
   "metadata": {},
   "outputs": [
    {
     "name": "stderr",
     "output_type": "stream",
     "text": [
      "                                                                                \r"
     ]
    }
   ],
   "source": [
    "df.write.partitionBy(col_name).mode(\"overwrite\").parquet(partition_output_path)"
   ]
  },
  {
   "cell_type": "code",
   "execution_count": 17,
   "id": "8ee8e1dc-1090-4e75-b63f-75693287f1a1",
   "metadata": {},
   "outputs": [],
   "source": [
    "from pyspark.sql.types import StructType, IntegerType,StringType\n",
    "from pyspark.sql.window import Window\n",
    "from pyspark.sql.functions import sum, col"
   ]
  },
  {
   "cell_type": "markdown",
   "id": "06e39baf-090e-4f6c-95db-44e9b08facc4",
   "metadata": {},
   "source": [
    "# Step 2. Do some analysis\n",
    "\n",
    "We can use below query to do some performence test on csv, parquet, and partitioned parquet. \n",
    "\n",
    "### Query 1\n",
    "\n",
    "```sql\n",
    "select sum(poids), sexe, densite, statut_pro from TABLE where region_residence=’44’ and region_travail!=’44’ and statut_pro !=’Z’ group by  sexe, densite, statut_pro\n",
    "```"
   ]
  },
  {
   "cell_type": "code",
   "execution_count": 18,
   "id": "20daa9e8-78f9-4cf6-b650-1c519e081a23",
   "metadata": {},
   "outputs": [],
   "source": [
    "import time;\n",
    "\n",
    "\n",
    "def run_query_1(df):\n",
    "    start = time.time()\n",
    "    tmp=df.filter((col(\"region_residence\")==44) & (col(\"region_travail\")!=44) & (col(\"statut_pro\")!=\"Z\")).select(\"region_residence\",\"region_travail\",\"poids\",\"sexe\",\"densite\",\"statut_pro\")\n",
    "    print(\"Data frame after filter\")\n",
    "    tmp.show()\n",
    "    print(\"Final resutl data frame\")\n",
    "    df_resu1=tmp.groupBy(\"sexe\",\"densite\",\"statut_pro\").agg(sum(col(\"poids\")))\n",
    "    df_resu1.show()\n",
    "    end = time.time()\n",
    "    print(f\"Total time spent: {end-start}\")\n",
    "    "
   ]
  },
  {
   "cell_type": "markdown",
   "id": "32763b64-ac75-4823-9b86-b432ccdbd05c",
   "metadata": {},
   "source": [
    "### 2.1 Test query with csv "
   ]
  },
  {
   "cell_type": "code",
   "execution_count": 19,
   "id": "e80ab69a-b937-4027-aa01-39780b7e2b27",
   "metadata": {},
   "outputs": [
    {
     "name": "stdout",
     "output_type": "stream",
     "text": [
      "Data frame after filter\n",
      "+----------------+--------------+------------------+----+-------+----------+\n",
      "|region_residence|region_travail|             poids|sexe|densite|statut_pro|\n",
      "+----------------+--------------+------------------+----+-------+----------+\n",
      "|              44|            52|0.9173226192328938|   2|      4|         1|\n",
      "|              44|            27|1.0844752868227385|   2|      4|         1|\n",
      "|              44|            84|1.4552633116136917|   1|      4|         1|\n",
      "|              44|            32|1.2880844787953543|   1|      3|         2|\n",
      "|              44|            76|0.8567941093656907|   1|      4|         1|\n",
      "|              44|            75| 1.360188435113091|   1|      4|         1|\n",
      "|              44|            76|0.8156473498675924|   2|      2|         1|\n",
      "|              44|            75|1.2422037759139486|   2|      4|         1|\n",
      "|              44|            76|0.5489129674794979|   2|      4|         2|\n",
      "|              44|            84| 1.420871377293334|   2|      4|         2|\n",
      "|              44|            84|1.2614871742390588|   2|      2|         1|\n",
      "|              44|            76| 1.116597259805832|   1|      3|         2|\n",
      "|              44|            32| 1.308357962453038|   2|      3|         2|\n",
      "|              44|            75| 0.525318912492181|   1|      3|         1|\n",
      "|              44|            75|1.0041298559156098|   1|      3|         1|\n",
      "|              44|            75|1.1603323023982774|   1|      4|         1|\n",
      "|              44|            75|1.3296286730525892|   1|      4|         2|\n",
      "|              44|            75|1.4887306957464115|   1|      4|         1|\n",
      "|              44|            28|0.7702200453240644|   2|      3|         1|\n",
      "|              44|            24|0.5217270657861744|   2|      3|         2|\n",
      "+----------------+--------------+------------------+----+-------+----------+\n",
      "only showing top 20 rows\n",
      "\n",
      "Final resutl data frame\n"
     ]
    },
    {
     "name": "stderr",
     "output_type": "stream",
     "text": [
      "[Stage 12:=====================================================>(108 + 1) / 109]\r"
     ]
    },
    {
     "name": "stdout",
     "output_type": "stream",
     "text": [
      "+----+-------+----------+------------------+\n",
      "|sexe|densite|statut_pro|        sum(poids)|\n",
      "+----+-------+----------+------------------+\n",
      "|   1|      4|         1| 84860.02165580635|\n",
      "|   1|      3|         1| 81647.73008880654|\n",
      "|   1|      3|         2|20318.627070021386|\n",
      "|   2|      2|         2| 4594.674335848757|\n",
      "|   2|      4|         2| 21197.94139432258|\n",
      "|   2|      3|         1|  81280.1828071123|\n",
      "|   2|      4|         1| 85804.86044169618|\n",
      "|   1|      1|         1|2422.4620618296367|\n",
      "|   2|      3|         2|  20696.8599381208|\n",
      "|   1|      4|         2| 21014.73402813378|\n",
      "|   1|      2|         1|18598.935870467652|\n",
      "|   2|      1|         1| 2403.512048985781|\n",
      "|   2|      2|         1| 18421.38674213923|\n",
      "|   1|      2|         2|4560.4938174609615|\n",
      "|   1|      1|         2|  607.757923308453|\n",
      "|   2|      1|         2| 592.3437398684349|\n",
      "+----+-------+----------+------------------+\n",
      "\n",
      "Total time spent: 36.96817231178284\n"
     ]
    },
    {
     "name": "stderr",
     "output_type": "stream",
     "text": [
      "                                                                                \r"
     ]
    }
   ],
   "source": [
    "run_query_1(df)"
   ]
  },
  {
   "cell_type": "markdown",
   "id": "f654948d-d429-49eb-bf45-74bceba2c310",
   "metadata": {},
   "source": [
    "### 2.2 Test query with parquet\n"
   ]
  },
  {
   "cell_type": "code",
   "execution_count": 4,
   "id": "360a53f0-45ab-442b-b922-b0ce5544c00a",
   "metadata": {},
   "outputs": [],
   "source": [
    "parquet_file_name=\"individus_snappy_parquet\"\n",
    "partition_parquet_name=\"individus-region-residence.parquet\"\n",
    "parquet_path=f\"{work_dir}/{parquet_file_name}\"\n",
    "\n",
    "partition_parquet_path=f\"{work_dir}/{partition_parquet_name}\""
   ]
  },
  {
   "cell_type": "code",
   "execution_count": 5,
   "id": "1cb35ea4-b7d3-4e31-8399-5870d79d547e",
   "metadata": {},
   "outputs": [
    {
     "name": "stderr",
     "output_type": "stream",
     "text": [
      "                                                                                \r"
     ]
    }
   ],
   "source": [
    "df_parquet=spark.read.parquet(parquet_path)"
   ]
  },
  {
   "cell_type": "code",
   "execution_count": 6,
   "id": "bd9de156-e3e6-4105-b4ce-75707c5d8e4f",
   "metadata": {},
   "outputs": [
    {
     "ename": "NameError",
     "evalue": "name 'run_query_1' is not defined",
     "output_type": "error",
     "traceback": [
      "\u001b[0;31m---------------------------------------------------------------------------\u001b[0m",
      "\u001b[0;31mNameError\u001b[0m                                 Traceback (most recent call last)",
      "Input \u001b[0;32mIn [6]\u001b[0m, in \u001b[0;36m<cell line: 1>\u001b[0;34m()\u001b[0m\n\u001b[0;32m----> 1\u001b[0m \u001b[43mrun_query_1\u001b[49m(df_parquet)\n",
      "\u001b[0;31mNameError\u001b[0m: name 'run_query_1' is not defined"
     ]
    }
   ],
   "source": [
    "run_query_1(df_parquet)"
   ]
  },
  {
   "cell_type": "markdown",
   "id": "57415449-42d6-42e1-a1d3-a0d6439eef35",
   "metadata": {},
   "source": [
    "### 2.3 Test query with partitioned parquet file"
   ]
  },
  {
   "cell_type": "code",
   "execution_count": null,
   "id": "7f21300a-6d2f-4e6d-8c52-6c872837c3a1",
   "metadata": {},
   "outputs": [],
   "source": [
    "df_parquet_partition=spark.read.parquet(partition_parquet_path)"
   ]
  },
  {
   "cell_type": "code",
   "execution_count": 24,
   "id": "0c9a2a96-fe05-46be-b3b6-a4e057c6f300",
   "metadata": {},
   "outputs": [
    {
     "name": "stdout",
     "output_type": "stream",
     "text": [
      "Data frame after filter\n"
     ]
    },
    {
     "name": "stderr",
     "output_type": "stream",
     "text": [
      "                                                                                \r"
     ]
    },
    {
     "name": "stdout",
     "output_type": "stream",
     "text": [
      "+----------------+--------------+------------------+----+-------+----------+\n",
      "|region_residence|region_travail|             poids|sexe|densite|statut_pro|\n",
      "+----------------+--------------+------------------+----+-------+----------+\n",
      "|              44|            76|0.8238963726995286|   1|      4|         2|\n",
      "|              44|            28| 1.319271725135387|   2|      2|         1|\n",
      "|              44|            75|0.6567601781470883|   2|      3|         2|\n",
      "|              44|            84| 1.253597183134104|   1|      4|         1|\n",
      "|              44|            76|0.8731775260562563|   1|      4|         2|\n",
      "|              44|            84| 0.536695960149986|   1|      3|         1|\n",
      "|              44|            93| 1.396082818263767|   2|      1|         1|\n",
      "|              44|            75|0.5569451529336501|   2|      3|         1|\n",
      "|              44|            32|0.9938252776533797|   1|      4|         1|\n",
      "|              44|            24|0.5336664630957909|   1|      4|         1|\n",
      "|              44|            76|0.5319224734887357|   2|      3|         1|\n",
      "|              44|            24|1.4860392731495509|   1|      4|         2|\n",
      "|              44|            84|0.7913167929763688|   2|      4|         1|\n",
      "|              44|            32| 0.668197372681057|   2|      4|         1|\n",
      "|              44|            32| 1.461740058815252|   1|      4|         1|\n",
      "|              44|            32|0.7733018452489198|   1|      4|         1|\n",
      "|              44|            84|0.6795570987088271|   1|      3|         1|\n",
      "|              44|            84| 1.204854605564909|   2|      3|         2|\n",
      "|              44|            32|0.9292335360622941|   2|      4|         1|\n",
      "|              44|            84|0.6310180677344877|   2|      4|         1|\n",
      "+----------------+--------------+------------------+----+-------+----------+\n",
      "only showing top 20 rows\n",
      "\n",
      "Final resutl data frame\n"
     ]
    },
    {
     "name": "stderr",
     "output_type": "stream",
     "text": [
      "[Stage 22:=============================================>           (8 + 2) / 10]\r"
     ]
    },
    {
     "name": "stdout",
     "output_type": "stream",
     "text": [
      "+----+-------+----------+------------------+\n",
      "|sexe|densite|statut_pro|        sum(poids)|\n",
      "+----+-------+----------+------------------+\n",
      "|   1|      4|         1| 84860.02165580633|\n",
      "|   1|      3|         1| 81647.73008880646|\n",
      "|   1|      3|         2|20318.627070021397|\n",
      "|   2|      2|         2| 4594.674335848756|\n",
      "|   2|      4|         2|21197.941394322577|\n",
      "|   2|      3|         1| 81280.18280711232|\n",
      "|   2|      4|         1| 85804.86044169606|\n",
      "|   1|      1|         1|2422.4620618296367|\n",
      "|   2|      3|         2|20696.859938120782|\n",
      "|   1|      4|         2|21014.734028133775|\n",
      "|   1|      2|         1|18598.935870467656|\n",
      "|   2|      1|         1| 2403.512048985781|\n",
      "|   2|      2|         1|18421.386742139228|\n",
      "|   1|      2|         2|  4560.49381746096|\n",
      "|   1|      1|         2| 607.7579233084527|\n",
      "|   2|      1|         2| 592.3437398684353|\n",
      "+----+-------+----------+------------------+\n",
      "\n",
      "Total time spent: 12.353963613510132\n"
     ]
    },
    {
     "name": "stderr",
     "output_type": "stream",
     "text": [
      "                                                                                \r"
     ]
    }
   ],
   "source": [
    "run_query_1(df_parquet_partition)"
   ]
  },
  {
   "cell_type": "code",
   "execution_count": null,
   "id": "cdd12829-895d-4986-aa21-29e8890f9ecd",
   "metadata": {},
   "outputs": [],
   "source": []
  },
  {
   "cell_type": "markdown",
   "id": "a7d8f00d-5ad3-4ed5-8239-f605d6b602cb",
   "metadata": {},
   "source": [
    "### Step3 Create hive table \n",
    "\n",
    "Now we want to other people can use this table. So we use hive metastore to store and publish a table"
   ]
  },
  {
   "cell_type": "code",
   "execution_count": 8,
   "id": "52f2e80b-736c-4227-826a-abd35130d2b4",
   "metadata": {},
   "outputs": [
    {
     "name": "stderr",
     "output_type": "stream",
     "text": [
      "2022-05-30 09:33:20,635 WARN session.SessionState: METASTORE_FILTER_HOOK will be ignored, since hive.security.authorization.manager is set to instance of HiveAuthorizerFactory.\n"
     ]
    },
    {
     "data": {
      "text/plain": [
       "DataFrame[]"
      ]
     },
     "execution_count": 8,
     "metadata": {},
     "output_type": "execute_result"
    }
   ],
   "source": [
    "data_path=f\"{work_dir}/{parquet_file_name}\"\n",
    "schema_str = ', '.join([' '.join(x) for x in df_parquet.dtypes])\n",
    "table_name=\"individus_aida\"\n",
    "\n",
    "spark.sql(f\"\"\"\n",
    "CREATE EXTERNAL TABLE IF NOT EXISTS {table_name}\n",
    "({schema_str})\n",
    "STORED as parquet LOCATION '{data_path}'\n",
    "\"\"\")"
   ]
  },
  {
   "cell_type": "code",
   "execution_count": 9,
   "id": "3243d335-20f2-4768-91a4-2aa66cdbe916",
   "metadata": {},
   "outputs": [
    {
     "name": "stdout",
     "output_type": "stream",
     "text": [
      "+---------+--------------+-----------+\n",
      "|namespace|     tableName|isTemporary|\n",
      "+---------+--------------+-----------+\n",
      "|  default|         fredo|      false|\n",
      "|  default|     individus|      false|\n",
      "|  default|individus_aida|      false|\n",
      "|  default|        romain|      false|\n",
      "+---------+--------------+-----------+\n",
      "\n"
     ]
    }
   ],
   "source": [
    "spark.sql('show tables;').show()"
   ]
  },
  {
   "cell_type": "markdown",
   "id": "a8767714-f3d6-4993-884c-4b80bda86d1f",
   "metadata": {},
   "source": [
    "After we register the parquet file as a hive external table, we can use the sql() method to run pure sql query directly. Spark will search the table name on the default db."
   ]
  },
  {
   "cell_type": "code",
   "execution_count": 42,
   "id": "e35eb7b5-338e-4a88-b78e-03d8827e28ef",
   "metadata": {},
   "outputs": [
    {
     "name": "stderr",
     "output_type": "stream",
     "text": [
      "[Stage 14:===================================================>    (12 + 1) / 13]\r"
     ]
    },
    {
     "name": "stdout",
     "output_type": "stream",
     "text": [
      "+----------------+---------------------+-----------------+--------------+-------------------+---------------+------------------+-------------+--------------+------------------+----+----------+-------+----------------+-------+---+---------------+----------+----------+----------+----------+----------+----------+----------+----------+----------+----------+----------+----------+----------+----------+----------+----------+----------+----------+----------+----------+----------+----------+----------+----------+----------+----------+----------+----------+----------+----------+----------+----------+----------+----------+----------+----------+----------+----------+----------+----------+----------+----------+----------+----------+----------+----------+----------+----------+----------+\n",
      "|region_residence|departement_residence|commune_residence|region_travail|departement_travail|commune_travail|commune_anterieure|commune_etude|pays_naissance|             poids|sexe|statut_pro|densite|recherche_emploi|diplome|age|     variable00|variable01|variable02|variable03|variable04|variable05|variable06|variable07|variable08|variable09|variable10|variable11|variable12|variable13|variable14|variable15|variable16|variable17|variable18|variable19|variable20|variable21|variable22|variable23|variable24|variable25|variable26|variable27|variable28|variable29|variable30|variable31|variable32|variable33|variable34|variable35|variable36|variable37|variable38|variable39|variable40|variable41|variable42|variable43|variable44|variable45|variable46|variable47|variable48|variable49|\n",
      "+----------------+---------------------+-----------------+--------------+-------------------+---------------+------------------+-------------+--------------+------------------+----+----------+-------+----------------+-------+---+---------------+----------+----------+----------+----------+----------+----------+----------+----------+----------+----------+----------+----------+----------+----------+----------+----------+----------+----------+----------+----------+----------+----------+----------+----------+----------+----------+----------+----------+----------+----------+----------+----------+----------+----------+----------+----------+----------+----------+----------+----------+----------+----------+----------+----------+----------+----------+----------+----------+----------+\n",
      "|              44|                   51|            51265|            44|                 51|          51265|             51265|        51265|            31|1.2622272766699092|   2|         Z|      3|               2|      0|  4|930660000002340|         1|         6|      9316|  652242.5| 6871102.2|         2|      2017|         1|      1989|         5|         9|     28027|        27|        27|         2|     75113|       999|         1|        11|         2|         2|       111|       111|         1|       ZZZ|       997|         0|       997|         1|         2|         2|         Z|     YYYYY|     ZZZZZ|         2|     93055|     99999|        16|        16|        1G|         Z|         1|         0| 930660902|         1|     93066|       999|       999|         6|\n",
      "|              28|                   61|            61493|            28|                 61|          61493|             61493|        61493|            99| 0.829950240429891|   1|         Z|      4|               0|      1|  6|930660000002340|         1|         6|      9316|  652242.5| 6871102.2|         2|      2017|         1|      1989|         5|         9|     28027|        27|        27|         2|     75113|       999|         1|        11|         2|         2|       111|       111|         1|       ZZZ|       997|         0|       997|         1|         2|         2|         Z|     YYYYY|     ZZZZZ|         2|     93055|     99999|        16|        16|        1G|         Z|         1|         0| 930660902|         1|     93066|       999|       999|         6|\n",
      "|              32|                   59|            59019|            32|                 59|          59019|             59019|        59019|            51|1.1022629424168937|   2|         Z|      3|               1|      4|  6|930660000002340|         1|         6|      9316|  652242.5| 6871102.2|         2|      2017|         1|      1989|         5|         9|     28027|        27|        27|         2|     75113|       999|         1|        11|         2|         2|       111|       111|         1|       ZZZ|       997|         0|       997|         1|         2|         2|         Z|     YYYYY|     ZZZZZ|         2|     93055|     99999|        16|        16|        1G|         Z|         1|         0| 930660902|         1|     93066|       999|       999|         6|\n",
      "|              84|                   74|            74191|            44|                 08|          08191|             74191|        74191|            41|0.5779705758148307|   1|         Z|      3|               0|      6|  3|930660000002340|         1|         6|      9316|  652242.5| 6871102.2|         2|      2017|         1|      1989|         5|         9|     28027|        27|        27|         2|     75113|       999|         1|        11|         2|         2|       111|       111|         1|       ZZZ|       997|         0|       997|         1|         2|         2|         Z|     YYYYY|     ZZZZZ|         2|     93055|     99999|        16|        16|        1G|         Z|         1|         0| 930660902|         1|     93066|       999|       999|         6|\n",
      "|              44|                   10|            10027|            44|                 10|          10027|             10027|        10027|            21|0.6162201484479796|   1|         2|      4|               2|      6|  1|930660000002340|         1|         6|      9316|  652242.5| 6871102.2|         2|      2017|         1|      1989|         5|         9|     28027|        27|        27|         2|     75113|       999|         1|        11|         2|         2|       111|       111|         1|       ZZZ|       997|         0|       997|         1|         2|         2|         Z|     YYYYY|     ZZZZZ|         2|     93055|     99999|        16|        16|        1G|         Z|         1|         0| 930660902|         1|     93066|       999|       999|         6|\n",
      "+----------------+---------------------+-----------------+--------------+-------------------+---------------+------------------+-------------+--------------+------------------+----+----------+-------+----------------+-------+---+---------------+----------+----------+----------+----------+----------+----------+----------+----------+----------+----------+----------+----------+----------+----------+----------+----------+----------+----------+----------+----------+----------+----------+----------+----------+----------+----------+----------+----------+----------+----------+----------+----------+----------+----------+----------+----------+----------+----------+----------+----------+----------+----------+----------+----------+----------+----------+----------+----------+----------+\n",
      "\n"
     ]
    },
    {
     "name": "stderr",
     "output_type": "stream",
     "text": [
      "                                                                                \r"
     ]
    }
   ],
   "source": [
    "spark.sql(\"\"\"SELECT * FROM individus limit 5\"\"\").show()"
   ]
  },
  {
   "cell_type": "code",
   "execution_count": 48,
   "id": "b13e0c08-aeb0-49e7-80f7-d66c8f5b786a",
   "metadata": {},
   "outputs": [
    {
     "name": "stderr",
     "output_type": "stream",
     "text": [
      "[Stage 18:===================================================>    (12 + 1) / 13]\r"
     ]
    },
    {
     "name": "stdout",
     "output_type": "stream",
     "text": [
      "+------------------+----+-------+----------+\n",
      "|        sum(poids)|sexe|densite|statut_pro|\n",
      "+------------------+----+-------+----------+\n",
      "| 84860.02165580635|   1|      4|         1|\n",
      "| 81647.73008880643|   1|      3|         1|\n",
      "|20318.627070021394|   1|      3|         2|\n",
      "|4594.6743358487565|   2|      2|         2|\n",
      "|21197.941394322577|   2|      4|         2|\n",
      "| 81280.18280711232|   2|      3|         1|\n",
      "| 85804.86044169607|   2|      4|         1|\n",
      "|2422.4620618296362|   1|      1|         1|\n",
      "|20696.859938120797|   2|      3|         2|\n",
      "|21014.734028133786|   1|      4|         2|\n",
      "| 18598.93587046767|   1|      2|         1|\n",
      "| 2403.512048985782|   2|      1|         1|\n",
      "|18421.386742139224|   2|      2|         1|\n",
      "| 4560.493817460959|   1|      2|         2|\n",
      "| 607.7579233084525|   1|      1|         2|\n",
      "| 592.3437398684353|   2|      1|         2|\n",
      "+------------------+----+-------+----------+\n",
      "\n"
     ]
    },
    {
     "name": "stderr",
     "output_type": "stream",
     "text": [
      "                                                                                \r"
     ]
    }
   ],
   "source": [
    "spark.sql(\"\"\"\n",
    "SELECT sum(poids), sexe, densite, statut_pro\n",
    "FROM individus\n",
    "WHERE region_residence='44' AND region_travail != '44' AND statut_pro != 'Z'\n",
    "GROUP BY sexe, densite, statut_pro\n",
    "\"\"\").show()"
   ]
  },
  {
   "cell_type": "code",
   "execution_count": 50,
   "id": "90de6111-c2b1-42ef-a680-d29910723e62",
   "metadata": {},
   "outputs": [
    {
     "name": "stderr",
     "output_type": "stream",
     "text": [
      "[Stage 21:===================================================>    (12 + 1) / 13]\r"
     ]
    },
    {
     "name": "stdout",
     "output_type": "stream",
     "text": [
      "+------------------+---+-------+\n",
      "|        sum(poids)|age|diplome|\n",
      "+------------------+---+-------+\n",
      "| 9.177751090295155|  0|      1|\n",
      "| 6.360279128629814|  1|      6|\n",
      "|14.023248192593122|  4|      7|\n",
      "| 17.15541038136797|  2|      2|\n",
      "|10.180609173643694|  7|      1|\n",
      "|12.058477661296191|  1|      7|\n",
      "| 9.255402890330409|  3|      2|\n",
      "| 12.23768843458804|  7|      4|\n",
      "| 11.07721187612884|  2|      1|\n",
      "|17.704675201373025|  0|      6|\n",
      "|11.098099052856004|  9|      1|\n",
      "|6.5043199507982346|  5|      0|\n",
      "| 5.680795776812895|  6|      5|\n",
      "| 8.823483188902223|  3|      1|\n",
      "|16.322972771017838|  5|      2|\n",
      "|15.291267484605667|  0|      0|\n",
      "|15.498980785319798|  2|      7|\n",
      "| 9.126540292650773|  4|      5|\n",
      "|15.581455705160748|  9|      7|\n",
      "| 8.409815355659886|  4|      2|\n",
      "+------------------+---+-------+\n",
      "only showing top 20 rows\n",
      "\n"
     ]
    },
    {
     "name": "stderr",
     "output_type": "stream",
     "text": [
      "                                                                                \r"
     ]
    }
   ],
   "source": [
    "spark.sql(\"\"\"\n",
    "SELECT sum(poids), age, diplome\n",
    "FROM individus\n",
    "WHERE recherche_emploi IN ('1','2') AND region_residence='11' AND commune_residence IN ('75013','75014','75015','92100','92130','92075','92240','92120','94250','94200')\n",
    "GROUP BY diplome, age\n",
    "\"\"\").show()"
   ]
  },
  {
   "cell_type": "code",
   "execution_count": 52,
   "id": "1d0b6cc8-a2b4-4c4c-b2da-a754a337b307",
   "metadata": {},
   "outputs": [
    {
     "name": "stderr",
     "output_type": "stream",
     "text": [
      "[Stage 24:===============================================>        (11 + 2) / 13]\r"
     ]
    },
    {
     "name": "stdout",
     "output_type": "stream",
     "text": [
      "+------------------+--------------+---------------------+\n",
      "|        sum(poids)|pays_naissance|departement_residence|\n",
      "+------------------+--------------+---------------------+\n",
      "| 86885.80634794573|            51|                   52|\n",
      "| 74511.08026494356|            21|                   68|\n",
      "|101801.91621098605|            41|                   55|\n",
      "| 86962.65446028853|            31|                   52|\n",
      "| 88498.68533646195|            12|                   10|\n",
      "|148134.84723748371|            12|                   57|\n",
      "| 87066.47522814618|            21|                   52|\n",
      "|105343.26853180634|            31|                   67|\n",
      "| 74258.88213579985|            31|                   68|\n",
      "|103272.63170229828|            31|                   88|\n",
      "|103167.34376872622|            51|                   88|\n",
      "|104006.69954490617|            21|                   88|\n",
      "|101665.45053942419|            10|                   55|\n",
      "|125388.10926533878|            12|                   51|\n",
      "| 92142.58091966431|            41|                   08|\n",
      "|124155.45150492396|            31|                   51|\n",
      "|120580.31747778595|            51|                   54|\n",
      "|  88264.3514742661|            21|                   10|\n",
      "|105381.27800798992|            41|                   67|\n",
      "|101855.04211574589|            21|                   55|\n",
      "+------------------+--------------+---------------------+\n",
      "only showing top 20 rows\n",
      "\n"
     ]
    },
    {
     "name": "stderr",
     "output_type": "stream",
     "text": [
      "                                                                                \r"
     ]
    }
   ],
   "source": [
    "spark.sql(\"\"\"\n",
    "SELECT sum(poids), pays_naissance, departement_residence\n",
    "FROM individus\n",
    "WHERE region_residence='44'\n",
    "GROUP BY pays_naissance, departement_residence\n",
    "\"\"\").show()"
   ]
  },
  {
   "cell_type": "markdown",
   "id": "e94f1e86-7c01-4070-92fe-03d0cc0dac38",
   "metadata": {},
   "source": [
    "# Step 4. Use Trino to analyse the hive table"
   ]
  },
  {
   "cell_type": "code",
   "execution_count": null,
   "id": "b39efc58-3fd9-48e2-9ff2-31eca19db30a",
   "metadata": {},
   "outputs": [],
   "source": []
  }
 ],
 "metadata": {
  "kernelspec": {
   "display_name": "Python 3 (ipykernel)",
   "language": "python",
   "name": "python3"
  },
  "language_info": {
   "codemirror_mode": {
    "name": "ipython",
    "version": 3
   },
   "file_extension": ".py",
   "mimetype": "text/x-python",
   "name": "python",
   "nbconvert_exporter": "python",
   "pygments_lexer": "ipython3",
   "version": "3.9.12"
  }
 },
 "nbformat": 4,
 "nbformat_minor": 5
}
