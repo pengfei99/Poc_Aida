{
 "cells": [
  {
   "cell_type": "code",
   "execution_count": 1,
   "id": "26ba3cd4-95ac-433f-80e3-18b6966bada5",
   "metadata": {},
   "outputs": [],
   "source": [
    "from pyspark.sql import SparkSession\n",
    "import os"
   ]
  },
  {
   "cell_type": "code",
   "execution_count": 2,
   "id": "8f469701-1df3-4e06-8364-549002c22318",
   "metadata": {},
   "outputs": [
    {
     "name": "stderr",
     "output_type": "stream",
     "text": [
      "WARNING: An illegal reflective access operation has occurred\n",
      "WARNING: Illegal reflective access by org.apache.spark.unsafe.Platform (file:/opt/spark/jars/spark-unsafe_2.12-3.2.0.jar) to constructor java.nio.DirectByteBuffer(long,int)\n",
      "WARNING: Please consider reporting this to the maintainers of org.apache.spark.unsafe.Platform\n",
      "WARNING: Use --illegal-access=warn to enable warnings of further illegal reflective access operations\n",
      "WARNING: All illegal access operations will be denied in a future release\n"
     ]
    },
    {
     "name": "stdout",
     "output_type": "stream",
     "text": [
      ":: loading settings :: url = jar:file:/opt/spark/jars/ivy-2.5.0.jar!/org/apache/ivy/core/settings/ivysettings.xml\n"
     ]
    },
    {
     "name": "stderr",
     "output_type": "stream",
     "text": [
      "Ivy Default Cache set to: /home/jovyan/.ivy2/cache\n",
      "The jars for the packages stored in: /home/jovyan/.ivy2/jars\n",
      "org.postgresql#postgresql added as a dependency\n",
      ":: resolving dependencies :: org.apache.spark#spark-submit-parent-6b17ba73-85b3-4c31-95b4-3c3d1b8f69ee;1.0\n",
      "\tconfs: [default]\n",
      "\tfound org.postgresql#postgresql;42.2.24 in central\n",
      "\tfound org.checkerframework#checker-qual;3.5.0 in central\n",
      ":: resolution report :: resolve 170ms :: artifacts dl 6ms\n",
      "\t:: modules in use:\n",
      "\torg.checkerframework#checker-qual;3.5.0 from central in [default]\n",
      "\torg.postgresql#postgresql;42.2.24 from central in [default]\n",
      "\t---------------------------------------------------------------------\n",
      "\t|                  |            modules            ||   artifacts   |\n",
      "\t|       conf       | number| search|dwnlded|evicted|| number|dwnlded|\n",
      "\t---------------------------------------------------------------------\n",
      "\t|      default     |   2   |   0   |   0   |   0   ||   2   |   0   |\n",
      "\t---------------------------------------------------------------------\n",
      ":: retrieving :: org.apache.spark#spark-submit-parent-6b17ba73-85b3-4c31-95b4-3c3d1b8f69ee\n",
      "\tconfs: [default]\n",
      "\t0 artifacts copied, 2 already retrieved (0kB/6ms)\n",
      "2022-04-27 12:03:08,652 WARN util.NativeCodeLoader: Unable to load native-hadoop library for your platform... using builtin-java classes where applicable\n",
      "Setting default log level to \"WARN\".\n",
      "To adjust logging level use sc.setLogLevel(newLevel). For SparkR, use setLogLevel(newLevel).\n",
      "2022-04-27 12:03:11,820 WARN spark.ExecutorAllocationManager: Dynamic allocation without a shuffle service is an experimental feature.\n"
     ]
    }
   ],
   "source": [
    "local=False\n",
    "if local:\n",
    "    spark=SparkSession.builder.master(\"local[4]\") \\\n",
    "                  .appName(\"aida_poc_etl\").getOrCreate()\n",
    "else:\n",
    "    spark=SparkSession.builder \\\n",
    "                      .master(\"k8s://https://kubernetes.default.svc:443\") \\\n",
    "                      .appName(\"aida_poc_etl\") \\\n",
    "                      .config(\"spark.kubernetes.container.image\",os.environ[\"IMAGE_NAME\"]) \\\n",
    "                      .config(\"spark.kubernetes.authenticate.driver.serviceAccountName\",os.environ['KUBERNETES_SERVICE_ACCOUNT']) \\\n",
    "                      .config(\"spark.kubernetes.namespace\", os.environ['KUBERNETES_NAMESPACE']) \\\n",
    "                      .config(\"spark.executor.instances\", \"10\") \\\n",
    "                      .config(\"spark.executor.memory\",\"16g\") \\\n",
    "                      .config(\"spark.driver.memory\",\"32g\") \\\n",
    "                      .config('spark.jars.packages','org.postgresql:postgresql:42.2.24') \\\n",
    "                      .getOrCreate()"
   ]
  },
  {
   "cell_type": "code",
   "execution_count": 5,
   "id": "cb409d53-4dde-4ada-b8f3-562363b6822d",
   "metadata": {},
   "outputs": [
    {
     "name": "stderr",
     "output_type": "stream",
     "text": [
      "                                                                                \r"
     ]
    }
   ],
   "source": [
    "work_dir=\"s3a://projet-poc-aida/rp\"\n",
    "file_name=\"individus.csv\"\n",
    "file_path=f\"{work_dir}/{file_name}\"\n",
    "\n",
    "# use option\n",
    "df=spark.read\\\n",
    "    .option(\"header\",True)\\\n",
    "    .option(\"inferSchema\", True) \\\n",
    "    .option(\"delimiter\",';') \\\n",
    "    .csv(path=file_path)"
   ]
  },
  {
   "cell_type": "code",
   "execution_count": 7,
   "id": "4bbdb9ee-f8ac-4218-bf99-d9b6b2f078e7",
   "metadata": {},
   "outputs": [
    {
     "name": "stdout",
     "output_type": "stream",
     "text": [
      "+----------------+---------------------+-----------------+--------------+-------------------+---------------+------------------+-------------+--------------+------------------+----+----------+-------+----------------+-------+---+---------------+----------+----------+----------+----------+----------+----------+----------+----------+----------+----------+----------+----------+----------+----------+----------+----------+----------+----------+----------+----------+----------+----------+----------+----------+----------+----------+----------+----------+----------+----------+----------+----------+----------+----------+----------+----------+----------+----------+----------+----------+----------+----------+----------+----------+----------+----------+----------+----------+----------+\n",
      "|region_residence|departement_residence|commune_residence|region_travail|departement_travail|commune_travail|commune_anterieure|commune_etude|pays_naissance|poids             |sexe|statut_pro|densite|recherche_emploi|diplome|age|variable00     |variable01|variable02|variable03|variable04|variable05|variable06|variable07|variable08|variable09|variable10|variable11|variable12|variable13|variable14|variable15|variable16|variable17|variable18|variable19|variable20|variable21|variable22|variable23|variable24|variable25|variable26|variable27|variable28|variable29|variable30|variable31|variable32|variable33|variable34|variable35|variable36|variable37|variable38|variable39|variable40|variable41|variable42|variable43|variable44|variable45|variable46|variable47|variable48|variable49|\n",
      "+----------------+---------------------+-----------------+--------------+-------------------+---------------+------------------+-------------+--------------+------------------+----+----------+-------+----------------+-------+---+---------------+----------+----------+----------+----------+----------+----------+----------+----------+----------+----------+----------+----------+----------+----------+----------+----------+----------+----------+----------+----------+----------+----------+----------+----------+----------+----------+----------+----------+----------+----------+----------+----------+----------+----------+----------+----------+----------+----------+----------+----------+----------+----------+----------+----------+----------+----------+----------+----------+----------+\n",
      "|53              |22                   |22170            |53            |22                 |22170          |22170             |22170        |99            |1.197604824388689 |2   |Z         |3      |0               |2      |3  |930660000002340|1         |6         |9316      |652242.5  |6871102.2 |2         |2017      |1         |1989      |5         |9         |28027     |27        |27        |2         |75113     |999       |1         |11        |2         |2         |111       |111       |1         |ZZZ       |997       |0         |997       |1         |2         |2         |Z         |YYYYY     |ZZZZZ     |2         |93055     |99999     |16        |16        |1G        |Z         |1         |0         |930660902 |1         |93066     |999       |999       |6         |\n",
      "|75              |17                   |17082            |27            |71                 |71388          |17082             |17082        |41            |1.2372214738347511|1   |Z         |3      |0               |6      |9  |930660000002340|1         |6         |9316      |652242.5  |6871102.2 |2         |2017      |1         |1989      |5         |9         |28027     |27        |27        |2         |75113     |999       |1         |11        |2         |2         |111       |111       |1         |ZZZ       |997       |0         |997       |1         |2         |2         |Z         |YYYYY     |ZZZZZ     |2         |93055     |99999     |16        |16        |1G        |Z         |1         |0         |930660902 |1         |93066     |999       |999       |6         |\n",
      "|84              |38                   |38002            |84            |38                 |38002          |38002             |38002        |12            |0.5948016605623568|1   |1         |3      |2               |6      |1  |930660000002340|1         |6         |9316      |652242.5  |6871102.2 |2         |2017      |1         |1989      |5         |9         |28027     |27        |27        |2         |75113     |999       |1         |11        |2         |2         |111       |111       |1         |ZZZ       |997       |0         |997       |1         |2         |2         |Z         |YYYYY     |ZZZZZ     |2         |93055     |99999     |16        |16        |1G        |Z         |1         |0         |930660902 |1         |93066     |999       |999       |6         |\n",
      "|75              |17                   |17377            |75            |17                 |17377          |17377             |17377        |51            |1.1798062245499321|1   |2         |4      |1               |1      |3  |930660000002340|1         |6         |9316      |652242.5  |6871102.2 |2         |2017      |1         |1989      |5         |9         |28027     |27        |27        |2         |75113     |999       |1         |11        |2         |2         |111       |111       |1         |ZZZ       |997       |0         |997       |1         |2         |2         |Z         |YYYYY     |ZZZZZ     |2         |93055     |99999     |16        |16        |1G        |Z         |1         |0         |930660902 |1         |93066     |999       |999       |6         |\n",
      "|24              |36                   |36189            |84            |43                 |43125          |36189             |36189        |99            |0.8898426903110267|1   |1         |3      |2               |1      |2  |930660000002340|1         |6         |9316      |652242.5  |6871102.2 |2         |2017      |1         |1989      |5         |9         |28027     |27        |27        |2         |75113     |999       |1         |11        |2         |2         |111       |111       |1         |ZZZ       |997       |0         |997       |1         |2         |2         |Z         |YYYYY     |ZZZZZ     |2         |93055     |99999     |16        |16        |1G        |Z         |1         |0         |930660902 |1         |93066     |999       |999       |6         |\n",
      "+----------------+---------------------+-----------------+--------------+-------------------+---------------+------------------+-------------+--------------+------------------+----+----------+-------+----------------+-------+---+---------------+----------+----------+----------+----------+----------+----------+----------+----------+----------+----------+----------+----------+----------+----------+----------+----------+----------+----------+----------+----------+----------+----------+----------+----------+----------+----------+----------+----------+----------+----------+----------+----------+----------+----------+----------+----------+----------+----------+----------+----------+----------+----------+----------+----------+----------+----------+----------+----------+----------+\n",
      "only showing top 5 rows\n",
      "\n"
     ]
    }
   ],
   "source": [
    "# df.cache()\n",
    "df.show(5,truncate=False)"
   ]
  },
  {
   "cell_type": "code",
   "execution_count": 8,
   "id": "561b7907-fbfd-4201-8d8c-ed53675cc439",
   "metadata": {},
   "outputs": [
    {
     "name": "stdout",
     "output_type": "stream",
     "text": [
      "Total Size: 14 GiB\n"
     ]
    }
   ],
   "source": [
    "! mc ls --summarize s3/projet-poc-aida/rp/individus.csv | grep \"Total Size\""
   ]
  },
  {
   "cell_type": "code",
   "execution_count": 9,
   "id": "d9d0b9d7-9b48-4eb2-b982-9d082a4396e2",
   "metadata": {},
   "outputs": [
    {
     "name": "stderr",
     "output_type": "stream",
     "text": [
      "                                                                                \r"
     ]
    },
    {
     "data": {
      "text/plain": [
       "50000000"
      ]
     },
     "execution_count": 9,
     "metadata": {},
     "output_type": "execute_result"
    }
   ],
   "source": [
    "df.count()"
   ]
  },
  {
   "cell_type": "code",
   "execution_count": 10,
   "id": "84433448-d167-490c-9876-da29b94a2481",
   "metadata": {},
   "outputs": [
    {
     "name": "stdout",
     "output_type": "stream",
     "text": [
      "root\n",
      " |-- region_residence: integer (nullable = true)\n",
      " |-- departement_residence: string (nullable = true)\n",
      " |-- commune_residence: string (nullable = true)\n",
      " |-- region_travail: integer (nullable = true)\n",
      " |-- departement_travail: string (nullable = true)\n",
      " |-- commune_travail: string (nullable = true)\n",
      " |-- commune_anterieure: string (nullable = true)\n",
      " |-- commune_etude: string (nullable = true)\n",
      " |-- pays_naissance: integer (nullable = true)\n",
      " |-- poids: double (nullable = true)\n",
      " |-- sexe: integer (nullable = true)\n",
      " |-- statut_pro: string (nullable = true)\n",
      " |-- densite: integer (nullable = true)\n",
      " |-- recherche_emploi: integer (nullable = true)\n",
      " |-- diplome: integer (nullable = true)\n",
      " |-- age: integer (nullable = true)\n",
      " |-- variable00: long (nullable = true)\n",
      " |-- variable01: integer (nullable = true)\n",
      " |-- variable02: integer (nullable = true)\n",
      " |-- variable03: integer (nullable = true)\n",
      " |-- variable04: double (nullable = true)\n",
      " |-- variable05: double (nullable = true)\n",
      " |-- variable06: integer (nullable = true)\n",
      " |-- variable07: integer (nullable = true)\n",
      " |-- variable08: integer (nullable = true)\n",
      " |-- variable09: integer (nullable = true)\n",
      " |-- variable10: integer (nullable = true)\n",
      " |-- variable11: integer (nullable = true)\n",
      " |-- variable12: integer (nullable = true)\n",
      " |-- variable13: integer (nullable = true)\n",
      " |-- variable14: integer (nullable = true)\n",
      " |-- variable15: integer (nullable = true)\n",
      " |-- variable16: integer (nullable = true)\n",
      " |-- variable17: integer (nullable = true)\n",
      " |-- variable18: integer (nullable = true)\n",
      " |-- variable19: integer (nullable = true)\n",
      " |-- variable20: integer (nullable = true)\n",
      " |-- variable21: integer (nullable = true)\n",
      " |-- variable22: integer (nullable = true)\n",
      " |-- variable23: integer (nullable = true)\n",
      " |-- variable24: integer (nullable = true)\n",
      " |-- variable25: string (nullable = true)\n",
      " |-- variable26: integer (nullable = true)\n",
      " |-- variable27: integer (nullable = true)\n",
      " |-- variable28: integer (nullable = true)\n",
      " |-- variable29: integer (nullable = true)\n",
      " |-- variable30: integer (nullable = true)\n",
      " |-- variable31: integer (nullable = true)\n",
      " |-- variable32: string (nullable = true)\n",
      " |-- variable33: string (nullable = true)\n",
      " |-- variable34: string (nullable = true)\n",
      " |-- variable35: integer (nullable = true)\n",
      " |-- variable36: integer (nullable = true)\n",
      " |-- variable37: integer (nullable = true)\n",
      " |-- variable38: integer (nullable = true)\n",
      " |-- variable39: integer (nullable = true)\n",
      " |-- variable40: string (nullable = true)\n",
      " |-- variable41: string (nullable = true)\n",
      " |-- variable42: integer (nullable = true)\n",
      " |-- variable43: integer (nullable = true)\n",
      " |-- variable44: integer (nullable = true)\n",
      " |-- variable45: integer (nullable = true)\n",
      " |-- variable46: integer (nullable = true)\n",
      " |-- variable47: integer (nullable = true)\n",
      " |-- variable48: integer (nullable = true)\n",
      " |-- variable49: integer (nullable = true)\n",
      "\n"
     ]
    }
   ],
   "source": [
    "df.printSchema()"
   ]
  },
  {
   "cell_type": "code",
   "execution_count": 11,
   "id": "d2835d4f-f6e3-47cd-8353-3263bae3ba5f",
   "metadata": {},
   "outputs": [
    {
     "name": "stdout",
     "output_type": "stream",
     "text": [
      "Data partition number: 109\n"
     ]
    }
   ],
   "source": [
    "partition_number=df.rdd.getNumPartitions()\n",
    "print(f\"Data partition number: {partition_number}\")"
   ]
  },
  {
   "cell_type": "code",
   "execution_count": 12,
   "id": "2cc13abd-cc24-436d-8582-5c2f6f272b2a",
   "metadata": {},
   "outputs": [
    {
     "name": "stderr",
     "output_type": "stream",
     "text": [
      "                                                                                \r"
     ]
    }
   ],
   "source": [
    "output_file=\"individus_snappy_parquet\"\n",
    "\n",
    "output_path=f\"{work_dir}/{output_file}\"\n",
    "\n",
    "df.write.mode(\"overwrite\").parquet(output_path)"
   ]
  },
  {
   "cell_type": "code",
   "execution_count": 11,
   "id": "79259771-c758-4d27-ab63-6ae7698b7ad0",
   "metadata": {},
   "outputs": [
    {
     "name": "stdout",
     "output_type": "stream",
     "text": [
      "Total Size: 1.1 GiB\n"
     ]
    }
   ],
   "source": [
    "! mc ls --summarize s3/projet-poc-aida/rp/individus_snappy_parquet | grep \"Total Size\""
   ]
  },
  {
   "cell_type": "code",
   "execution_count": 16,
   "id": "926a7108-9342-4888-986f-eef9106b2fe9",
   "metadata": {},
   "outputs": [],
   "source": [
    "partition_output_file=\"individus_partition_region\"\n",
    "col_name=\"region_residence\"\n",
    "\n",
    "partition_output_path=f\"{work_dir}/{partition_output_file}\""
   ]
  },
  {
   "cell_type": "code",
   "execution_count": 14,
   "id": "5ff07051-f4ed-49c0-8ef8-bf8adfa75067",
   "metadata": {},
   "outputs": [],
   "source": [
    "\n",
    "\n",
    "df1=df.withColumn(\"region_str\",col(\"region_residence\").cast(StringType()))"
   ]
  },
  {
   "cell_type": "code",
   "execution_count": 17,
   "id": "d663906e-01d3-49f6-ae1f-0b82c9ee43e1",
   "metadata": {},
   "outputs": [
    {
     "name": "stderr",
     "output_type": "stream",
     "text": [
      "                                                                                \r"
     ]
    }
   ],
   "source": [
    "df1.write.partitionBy(\"region_str\").mode(\"overwrite\").parquet(partition_output_path)"
   ]
  },
  {
   "cell_type": "code",
   "execution_count": 17,
   "id": "8ee8e1dc-1090-4e75-b63f-75693287f1a1",
   "metadata": {},
   "outputs": [],
   "source": [
    "from pyspark.sql.types import StructType, IntegerType,StringType\n",
    "from pyspark.sql.window import Window\n",
    "from pyspark.sql.functions import sum, col"
   ]
  },
  {
   "cell_type": "code",
   "execution_count": null,
   "id": "25bc1c41-eb8b-46fe-80cd-ca6234fcf44e",
   "metadata": {},
   "outputs": [],
   "source": []
  },
  {
   "cell_type": "markdown",
   "id": "43936eec-4f1d-4773-ad06-50f481851a28",
   "metadata": {},
   "source": [
    "# Query 1\n",
    "\n",
    "select sum(poids), sexe, densite, statut_pro from TABLE where region_residence=’44’ and region_travail!=’44’ and statut_pro !=’Z’ group by  sexe, densite, statut_pro"
   ]
  },
  {
   "cell_type": "code",
   "execution_count": 18,
   "id": "20daa9e8-78f9-4cf6-b650-1c519e081a23",
   "metadata": {},
   "outputs": [],
   "source": [
    "import time;\n",
    "\n",
    "\n",
    "def run_query_1(df):\n",
    "    start = time.time()\n",
    "    tmp=df.filter((col(\"region_residence\")==44) & (col(\"region_travail\")!=44) & (col(\"statut_pro\")!=\"Z\")).select(\"region_residence\",\"region_travail\",\"poids\",\"sexe\",\"densite\",\"statut_pro\")\n",
    "    print(\"Data frame after filter\")\n",
    "    tmp.show()\n",
    "    print(\"Final resutl data frame\")\n",
    "    df_resu1=tmp.groupBy(\"sexe\",\"densite\",\"statut_pro\").agg(sum(col(\"poids\")))\n",
    "    df_resu1.show()\n",
    "    end = time.time()\n",
    "    print(f\"Total time spent: {end-start}\")\n",
    "    "
   ]
  },
  {
   "cell_type": "code",
   "execution_count": 19,
   "id": "e80ab69a-b937-4027-aa01-39780b7e2b27",
   "metadata": {},
   "outputs": [
    {
     "name": "stdout",
     "output_type": "stream",
     "text": [
      "Data frame after filter\n",
      "+----------------+--------------+------------------+----+-------+----------+\n",
      "|region_residence|region_travail|             poids|sexe|densite|statut_pro|\n",
      "+----------------+--------------+------------------+----+-------+----------+\n",
      "|              44|            52|0.9173226192328938|   2|      4|         1|\n",
      "|              44|            27|1.0844752868227385|   2|      4|         1|\n",
      "|              44|            84|1.4552633116136917|   1|      4|         1|\n",
      "|              44|            32|1.2880844787953543|   1|      3|         2|\n",
      "|              44|            76|0.8567941093656907|   1|      4|         1|\n",
      "|              44|            75| 1.360188435113091|   1|      4|         1|\n",
      "|              44|            76|0.8156473498675924|   2|      2|         1|\n",
      "|              44|            75|1.2422037759139486|   2|      4|         1|\n",
      "|              44|            76|0.5489129674794979|   2|      4|         2|\n",
      "|              44|            84| 1.420871377293334|   2|      4|         2|\n",
      "|              44|            84|1.2614871742390588|   2|      2|         1|\n",
      "|              44|            76| 1.116597259805832|   1|      3|         2|\n",
      "|              44|            32| 1.308357962453038|   2|      3|         2|\n",
      "|              44|            75| 0.525318912492181|   1|      3|         1|\n",
      "|              44|            75|1.0041298559156098|   1|      3|         1|\n",
      "|              44|            75|1.1603323023982774|   1|      4|         1|\n",
      "|              44|            75|1.3296286730525892|   1|      4|         2|\n",
      "|              44|            75|1.4887306957464115|   1|      4|         1|\n",
      "|              44|            28|0.7702200453240644|   2|      3|         1|\n",
      "|              44|            24|0.5217270657861744|   2|      3|         2|\n",
      "+----------------+--------------+------------------+----+-------+----------+\n",
      "only showing top 20 rows\n",
      "\n",
      "Final resutl data frame\n"
     ]
    },
    {
     "name": "stderr",
     "output_type": "stream",
     "text": [
      "[Stage 12:=====================================================>(108 + 1) / 109]\r"
     ]
    },
    {
     "name": "stdout",
     "output_type": "stream",
     "text": [
      "+----+-------+----------+------------------+\n",
      "|sexe|densite|statut_pro|        sum(poids)|\n",
      "+----+-------+----------+------------------+\n",
      "|   1|      4|         1| 84860.02165580635|\n",
      "|   1|      3|         1| 81647.73008880654|\n",
      "|   1|      3|         2|20318.627070021386|\n",
      "|   2|      2|         2| 4594.674335848757|\n",
      "|   2|      4|         2| 21197.94139432258|\n",
      "|   2|      3|         1|  81280.1828071123|\n",
      "|   2|      4|         1| 85804.86044169618|\n",
      "|   1|      1|         1|2422.4620618296367|\n",
      "|   2|      3|         2|  20696.8599381208|\n",
      "|   1|      4|         2| 21014.73402813378|\n",
      "|   1|      2|         1|18598.935870467652|\n",
      "|   2|      1|         1| 2403.512048985781|\n",
      "|   2|      2|         1| 18421.38674213923|\n",
      "|   1|      2|         2|4560.4938174609615|\n",
      "|   1|      1|         2|  607.757923308453|\n",
      "|   2|      1|         2| 592.3437398684349|\n",
      "+----+-------+----------+------------------+\n",
      "\n",
      "Total time spent: 36.96817231178284\n"
     ]
    },
    {
     "name": "stderr",
     "output_type": "stream",
     "text": [
      "                                                                                \r"
     ]
    }
   ],
   "source": [
    "run_query_1(df)"
   ]
  },
  {
   "cell_type": "markdown",
   "id": "f654948d-d429-49eb-bf45-74bceba2c310",
   "metadata": {},
   "source": [
    "## do op with parquet\n"
   ]
  },
  {
   "cell_type": "code",
   "execution_count": 20,
   "id": "360a53f0-45ab-442b-b922-b0ce5544c00a",
   "metadata": {},
   "outputs": [],
   "source": [
    "parquet_file_name=\"individus_snappy_parquet\"\n",
    "partition_parquet_name=\"individus-region-residence.parquet\"\n",
    "parquet_path=f\"{work_dir}/{parquet_file_name}\"\n",
    "\n",
    "partition_parquet_path=f\"{work_dir}/{partition_parquet_name}\""
   ]
  },
  {
   "cell_type": "code",
   "execution_count": 21,
   "id": "1cb35ea4-b7d3-4e31-8399-5870d79d547e",
   "metadata": {},
   "outputs": [],
   "source": [
    "df_parquet=spark.read.parquet(parquet_path)"
   ]
  },
  {
   "cell_type": "code",
   "execution_count": 22,
   "id": "ac12ff23-0deb-44b9-b9b2-d8d89793e8e0",
   "metadata": {},
   "outputs": [],
   "source": [
    "df_parquet_partition=spark.read.parquet(partition_parquet_path)"
   ]
  },
  {
   "cell_type": "code",
   "execution_count": 23,
   "id": "bd9de156-e3e6-4105-b4ce-75707c5d8e4f",
   "metadata": {},
   "outputs": [
    {
     "name": "stdout",
     "output_type": "stream",
     "text": [
      "Data frame after filter\n"
     ]
    },
    {
     "name": "stderr",
     "output_type": "stream",
     "text": [
      "                                                                                \r"
     ]
    },
    {
     "name": "stdout",
     "output_type": "stream",
     "text": [
      "+----------------+--------------+------------------+----+-------+----------+\n",
      "|region_residence|region_travail|             poids|sexe|densite|statut_pro|\n",
      "+----------------+--------------+------------------+----+-------+----------+\n",
      "|              44|            76|0.6964892028349067|   1|      3|         1|\n",
      "|              44|            53|0.9099529312417702|   1|      3|         2|\n",
      "|              44|            84|1.3965981643575496|   2|      4|         1|\n",
      "|              44|            76|0.9166255577323749|   1|      2|         1|\n",
      "|              44|            28|1.4835491154585285|   2|      3|         2|\n",
      "|              44|            76|0.8553348903506489|   2|      4|         1|\n",
      "|              44|            32|0.6249929984339587|   2|      4|         2|\n",
      "|              44|            32|0.6787379373345154|   1|      2|         1|\n",
      "|              44|            75|1.2816300236916485|   2|      3|         1|\n",
      "|              44|            27|1.3839504158949147|   1|      4|         1|\n",
      "|              44|            11|0.7848081321432643|   1|      4|         1|\n",
      "|              44|            76|1.2904623664581365|   2|      4|         1|\n",
      "|              44|            32|0.9137245846741109|   2|      3|         1|\n",
      "|              44|            11|1.3088361782410396|   2|      3|         2|\n",
      "|              44|            27|1.1816757189082674|   1|      4|         1|\n",
      "|              44|            28|1.2866667914061707|   1|      4|         1|\n",
      "|              44|            27|0.9064168335795588|   1|      3|         1|\n",
      "|              44|            28|1.0104833741135784|   1|      2|         1|\n",
      "|              44|            84|1.2037804928712543|   2|      3|         1|\n",
      "|              44|            84|1.4843771272865336|   1|      4|         1|\n",
      "+----------------+--------------+------------------+----+-------+----------+\n",
      "only showing top 20 rows\n",
      "\n",
      "Final resutl data frame\n"
     ]
    },
    {
     "name": "stderr",
     "output_type": "stream",
     "text": [
      "[Stage 18:===============================================>        (11 + 2) / 13]\r"
     ]
    },
    {
     "name": "stdout",
     "output_type": "stream",
     "text": [
      "+----+-------+----------+------------------+\n",
      "|sexe|densite|statut_pro|        sum(poids)|\n",
      "+----+-------+----------+------------------+\n",
      "|   1|      4|         1| 84860.02165580637|\n",
      "|   1|      3|         1| 81647.73008880642|\n",
      "|   1|      3|         2| 20318.62707002139|\n",
      "|   2|      2|         2| 4594.674335848756|\n",
      "|   2|      4|         2|21197.941394322577|\n",
      "|   2|      3|         1| 81280.18280711232|\n",
      "|   2|      4|         1| 85804.86044169607|\n",
      "|   1|      1|         1|2422.4620618296367|\n",
      "|   2|      3|         2|20696.859938120797|\n",
      "|   1|      4|         2|21014.734028133782|\n",
      "|   1|      2|         1|18598.935870467667|\n",
      "|   2|      1|         1|2403.5120489857813|\n",
      "|   2|      2|         1|18421.386742139224|\n",
      "|   1|      2|         2|  4560.49381746096|\n",
      "|   1|      1|         2| 607.7579233084527|\n",
      "|   2|      1|         2| 592.3437398684353|\n",
      "+----+-------+----------+------------------+\n",
      "\n",
      "Total time spent: 13.087724924087524\n"
     ]
    },
    {
     "name": "stderr",
     "output_type": "stream",
     "text": [
      "                                                                                \r"
     ]
    }
   ],
   "source": [
    "run_query_1(df_parquet)"
   ]
  },
  {
   "cell_type": "code",
   "execution_count": 24,
   "id": "0c9a2a96-fe05-46be-b3b6-a4e057c6f300",
   "metadata": {},
   "outputs": [
    {
     "name": "stdout",
     "output_type": "stream",
     "text": [
      "Data frame after filter\n"
     ]
    },
    {
     "name": "stderr",
     "output_type": "stream",
     "text": [
      "                                                                                \r"
     ]
    },
    {
     "name": "stdout",
     "output_type": "stream",
     "text": [
      "+----------------+--------------+------------------+----+-------+----------+\n",
      "|region_residence|region_travail|             poids|sexe|densite|statut_pro|\n",
      "+----------------+--------------+------------------+----+-------+----------+\n",
      "|              44|            76|0.8238963726995286|   1|      4|         2|\n",
      "|              44|            28| 1.319271725135387|   2|      2|         1|\n",
      "|              44|            75|0.6567601781470883|   2|      3|         2|\n",
      "|              44|            84| 1.253597183134104|   1|      4|         1|\n",
      "|              44|            76|0.8731775260562563|   1|      4|         2|\n",
      "|              44|            84| 0.536695960149986|   1|      3|         1|\n",
      "|              44|            93| 1.396082818263767|   2|      1|         1|\n",
      "|              44|            75|0.5569451529336501|   2|      3|         1|\n",
      "|              44|            32|0.9938252776533797|   1|      4|         1|\n",
      "|              44|            24|0.5336664630957909|   1|      4|         1|\n",
      "|              44|            76|0.5319224734887357|   2|      3|         1|\n",
      "|              44|            24|1.4860392731495509|   1|      4|         2|\n",
      "|              44|            84|0.7913167929763688|   2|      4|         1|\n",
      "|              44|            32| 0.668197372681057|   2|      4|         1|\n",
      "|              44|            32| 1.461740058815252|   1|      4|         1|\n",
      "|              44|            32|0.7733018452489198|   1|      4|         1|\n",
      "|              44|            84|0.6795570987088271|   1|      3|         1|\n",
      "|              44|            84| 1.204854605564909|   2|      3|         2|\n",
      "|              44|            32|0.9292335360622941|   2|      4|         1|\n",
      "|              44|            84|0.6310180677344877|   2|      4|         1|\n",
      "+----------------+--------------+------------------+----+-------+----------+\n",
      "only showing top 20 rows\n",
      "\n",
      "Final resutl data frame\n"
     ]
    },
    {
     "name": "stderr",
     "output_type": "stream",
     "text": [
      "[Stage 22:=============================================>           (8 + 2) / 10]\r"
     ]
    },
    {
     "name": "stdout",
     "output_type": "stream",
     "text": [
      "+----+-------+----------+------------------+\n",
      "|sexe|densite|statut_pro|        sum(poids)|\n",
      "+----+-------+----------+------------------+\n",
      "|   1|      4|         1| 84860.02165580633|\n",
      "|   1|      3|         1| 81647.73008880646|\n",
      "|   1|      3|         2|20318.627070021397|\n",
      "|   2|      2|         2| 4594.674335848756|\n",
      "|   2|      4|         2|21197.941394322577|\n",
      "|   2|      3|         1| 81280.18280711232|\n",
      "|   2|      4|         1| 85804.86044169606|\n",
      "|   1|      1|         1|2422.4620618296367|\n",
      "|   2|      3|         2|20696.859938120782|\n",
      "|   1|      4|         2|21014.734028133775|\n",
      "|   1|      2|         1|18598.935870467656|\n",
      "|   2|      1|         1| 2403.512048985781|\n",
      "|   2|      2|         1|18421.386742139228|\n",
      "|   1|      2|         2|  4560.49381746096|\n",
      "|   1|      1|         2| 607.7579233084527|\n",
      "|   2|      1|         2| 592.3437398684353|\n",
      "+----+-------+----------+------------------+\n",
      "\n",
      "Total time spent: 12.353963613510132\n"
     ]
    },
    {
     "name": "stderr",
     "output_type": "stream",
     "text": [
      "                                                                                \r"
     ]
    }
   ],
   "source": [
    "run_query_1(df_parquet_partition)"
   ]
  },
  {
   "cell_type": "code",
   "execution_count": null,
   "id": "90136a17-a7dd-46a7-9558-e71506a6ef5e",
   "metadata": {},
   "outputs": [],
   "source": []
  }
 ],
 "metadata": {
  "kernelspec": {
   "display_name": "Python 3 (ipykernel)",
   "language": "python",
   "name": "python3"
  },
  "language_info": {
   "codemirror_mode": {
    "name": "ipython",
    "version": 3
   },
   "file_extension": ".py",
   "mimetype": "text/x-python",
   "name": "python",
   "nbconvert_exporter": "python",
   "pygments_lexer": "ipython3",
   "version": "3.9.7"
  }
 },
 "nbformat": 4,
 "nbformat_minor": 5
}
