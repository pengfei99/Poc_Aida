{
 "cells": [
  {
   "cell_type": "code",
   "execution_count": 1,
   "id": "26ba3cd4-95ac-433f-80e3-18b6966bada5",
   "metadata": {},
   "outputs": [],
   "source": [
    "from pyspark.sql import SparkSession\n",
    "import os"
   ]
  },
  {
   "cell_type": "code",
   "execution_count": 3,
   "id": "8f469701-1df3-4e06-8364-549002c22318",
   "metadata": {},
   "outputs": [
    {
     "name": "stderr",
     "output_type": "stream",
     "text": [
      "2022-04-27 09:02:43,120 WARN spark.SparkContext: Another SparkContext is being constructed (or threw an exception in its constructor). This may indicate an error, since only one SparkContext should be running in this JVM (see SPARK-2243). The other SparkContext was created at:\n",
      "org.apache.spark.api.java.JavaSparkContext.<init>(JavaSparkContext.scala:58)\n",
      "java.base/jdk.internal.reflect.NativeConstructorAccessorImpl.newInstance0(Native Method)\n",
      "java.base/jdk.internal.reflect.NativeConstructorAccessorImpl.newInstance(NativeConstructorAccessorImpl.java:62)\n",
      "java.base/jdk.internal.reflect.DelegatingConstructorAccessorImpl.newInstance(DelegatingConstructorAccessorImpl.java:45)\n",
      "java.base/java.lang.reflect.Constructor.newInstance(Constructor.java:490)\n",
      "py4j.reflection.MethodInvoker.invoke(MethodInvoker.java:247)\n",
      "py4j.reflection.ReflectionEngine.invoke(ReflectionEngine.java:357)\n",
      "py4j.Gateway.invoke(Gateway.java:238)\n",
      "py4j.commands.ConstructorCommand.invokeConstructor(ConstructorCommand.java:80)\n",
      "py4j.commands.ConstructorCommand.execute(ConstructorCommand.java:69)\n",
      "py4j.ClientServerConnection.waitForCommands(ClientServerConnection.java:182)\n",
      "py4j.ClientServerConnection.run(ClientServerConnection.java:106)\n",
      "java.base/java.lang.Thread.run(Thread.java:829)\n",
      "2022-04-27 09:02:43,643 WARN spark.ExecutorAllocationManager: Dynamic allocation without a shuffle service is an experimental feature.\n"
     ]
    }
   ],
   "source": [
    "local=False\n",
    "if local:\n",
    "    spark=SparkSession.builder.master(\"local[4]\") \\\n",
    "                  .appName(\"aida_poc_etl\").getOrCreate()\n",
    "else:\n",
    "    spark=SparkSession.builder \\\n",
    "                      .master(\"k8s://https://kubernetes.default.svc:443\") \\\n",
    "                      .appName(\"aida_poc_etl\") \\\n",
    "                      .config(\"spark.kubernetes.container.image\",os.environ[\"IMAGE_NAME\"]) \\\n",
    "                      .config(\"spark.kubernetes.authenticate.driver.serviceAccountName\",os.environ['KUBERNETES_SERVICE_ACCOUNT']) \\\n",
    "                      .config(\"spark.kubernetes.namespace\", os.environ['KUBERNETES_NAMESPACE']) \\\n",
    "                      .config(\"spark.executor.instances\", \"10\") \\\n",
    "                      .config(\"spark.executor.memory\",\"16g\") \\\n",
    "                      .config('spark.jars.packages','org.postgresql:postgresql:42.2.24') \\\n",
    "                      .getOrCreate()"
   ]
  },
  {
   "cell_type": "code",
   "execution_count": 4,
   "id": "cb409d53-4dde-4ada-b8f3-562363b6822d",
   "metadata": {},
   "outputs": [
    {
     "name": "stderr",
     "output_type": "stream",
     "text": [
      "                                                                                \r"
     ]
    }
   ],
   "source": [
    "work_dir=\"s3a://projet-poc-aida/rp\"\n",
    "file_name=\"individus.csv\"\n",
    "file_path=f\"{work_dir}/{file_name}\"\n",
    "\n",
    "# use option\n",
    "df=spark.read\\\n",
    "    .option(\"header\",True)\\\n",
    "    .option(\"inferSchema\", True) \\\n",
    "    .option(\"delimiter\",';') \\\n",
    "    .csv(path=file_path)"
   ]
  },
  {
   "cell_type": "code",
   "execution_count": 5,
   "id": "4bbdb9ee-f8ac-4218-bf99-d9b6b2f078e7",
   "metadata": {},
   "outputs": [
    {
     "name": "stderr",
     "output_type": "stream",
     "text": [
      "2022-04-27 09:04:23,775 WARN util.package: Truncated the string representation of a plan since it was too large. This behavior can be adjusted by setting 'spark.sql.debug.maxToStringFields'.\n"
     ]
    },
    {
     "name": "stdout",
     "output_type": "stream",
     "text": [
      "+----------------+---------------------+-----------------+--------------+-------------------+---------------+------------------+-------------+--------------+------------------+----+----------+-------+----------------+-------+---+---------------+----------+----------+----------+----------+----------+----------+----------+----------+----------+----------+----------+----------+----------+----------+----------+----------+----------+----------+----------+----------+----------+----------+----------+----------+----------+----------+----------+----------+----------+----------+----------+----------+----------+----------+----------+----------+----------+----------+----------+----------+----------+----------+----------+----------+----------+----------+----------+----------+----------+\n",
      "|region_residence|departement_residence|commune_residence|region_travail|departement_travail|commune_travail|commune_anterieure|commune_etude|pays_naissance|poids             |sexe|statut_pro|densite|recherche_emploi|diplome|age|variable00     |variable01|variable02|variable03|variable04|variable05|variable06|variable07|variable08|variable09|variable10|variable11|variable12|variable13|variable14|variable15|variable16|variable17|variable18|variable19|variable20|variable21|variable22|variable23|variable24|variable25|variable26|variable27|variable28|variable29|variable30|variable31|variable32|variable33|variable34|variable35|variable36|variable37|variable38|variable39|variable40|variable41|variable42|variable43|variable44|variable45|variable46|variable47|variable48|variable49|\n",
      "+----------------+---------------------+-----------------+--------------+-------------------+---------------+------------------+-------------+--------------+------------------+----+----------+-------+----------------+-------+---+---------------+----------+----------+----------+----------+----------+----------+----------+----------+----------+----------+----------+----------+----------+----------+----------+----------+----------+----------+----------+----------+----------+----------+----------+----------+----------+----------+----------+----------+----------+----------+----------+----------+----------+----------+----------+----------+----------+----------+----------+----------+----------+----------+----------+----------+----------+----------+----------+----------+----------+\n",
      "|53              |22                   |22170            |53            |22                 |22170          |22170             |22170        |99            |1.197604824388689 |2   |Z         |3      |0               |2      |3  |930660000002340|1         |6         |9316      |652242.5  |6871102.2 |2         |2017      |1         |1989      |5         |9         |28027     |27        |27        |2         |75113     |999       |1         |11        |2         |2         |111       |111       |1         |ZZZ       |997       |0         |997       |1         |2         |2         |Z         |YYYYY     |ZZZZZ     |2         |93055     |99999     |16        |16        |1G        |Z         |1         |0         |930660902 |1         |93066     |999       |999       |6         |\n",
      "|75              |17                   |17082            |27            |71                 |71388          |17082             |17082        |41            |1.2372214738347511|1   |Z         |3      |0               |6      |9  |930660000002340|1         |6         |9316      |652242.5  |6871102.2 |2         |2017      |1         |1989      |5         |9         |28027     |27        |27        |2         |75113     |999       |1         |11        |2         |2         |111       |111       |1         |ZZZ       |997       |0         |997       |1         |2         |2         |Z         |YYYYY     |ZZZZZ     |2         |93055     |99999     |16        |16        |1G        |Z         |1         |0         |930660902 |1         |93066     |999       |999       |6         |\n",
      "|84              |38                   |38002            |84            |38                 |38002          |38002             |38002        |12            |0.5948016605623568|1   |1         |3      |2               |6      |1  |930660000002340|1         |6         |9316      |652242.5  |6871102.2 |2         |2017      |1         |1989      |5         |9         |28027     |27        |27        |2         |75113     |999       |1         |11        |2         |2         |111       |111       |1         |ZZZ       |997       |0         |997       |1         |2         |2         |Z         |YYYYY     |ZZZZZ     |2         |93055     |99999     |16        |16        |1G        |Z         |1         |0         |930660902 |1         |93066     |999       |999       |6         |\n",
      "|75              |17                   |17377            |75            |17                 |17377          |17377             |17377        |51            |1.1798062245499321|1   |2         |4      |1               |1      |3  |930660000002340|1         |6         |9316      |652242.5  |6871102.2 |2         |2017      |1         |1989      |5         |9         |28027     |27        |27        |2         |75113     |999       |1         |11        |2         |2         |111       |111       |1         |ZZZ       |997       |0         |997       |1         |2         |2         |Z         |YYYYY     |ZZZZZ     |2         |93055     |99999     |16        |16        |1G        |Z         |1         |0         |930660902 |1         |93066     |999       |999       |6         |\n",
      "|24              |36                   |36189            |84            |43                 |43125          |36189             |36189        |99            |0.8898426903110267|1   |1         |3      |2               |1      |2  |930660000002340|1         |6         |9316      |652242.5  |6871102.2 |2         |2017      |1         |1989      |5         |9         |28027     |27        |27        |2         |75113     |999       |1         |11        |2         |2         |111       |111       |1         |ZZZ       |997       |0         |997       |1         |2         |2         |Z         |YYYYY     |ZZZZZ     |2         |93055     |99999     |16        |16        |1G        |Z         |1         |0         |930660902 |1         |93066     |999       |999       |6         |\n",
      "+----------------+---------------------+-----------------+--------------+-------------------+---------------+------------------+-------------+--------------+------------------+----+----------+-------+----------------+-------+---+---------------+----------+----------+----------+----------+----------+----------+----------+----------+----------+----------+----------+----------+----------+----------+----------+----------+----------+----------+----------+----------+----------+----------+----------+----------+----------+----------+----------+----------+----------+----------+----------+----------+----------+----------+----------+----------+----------+----------+----------+----------+----------+----------+----------+----------+----------+----------+----------+----------+----------+\n",
      "only showing top 5 rows\n",
      "\n"
     ]
    },
    {
     "name": "stderr",
     "output_type": "stream",
     "text": [
      "                                                                                \r"
     ]
    }
   ],
   "source": [
    "# df.cache()\n",
    "df.show(5,truncate=False)"
   ]
  },
  {
   "cell_type": "code",
   "execution_count": 10,
   "id": "561b7907-fbfd-4201-8d8c-ed53675cc439",
   "metadata": {},
   "outputs": [
    {
     "name": "stdout",
     "output_type": "stream",
     "text": [
      "Total Size: 14 GiB\n"
     ]
    }
   ],
   "source": [
    "! mc ls --summarize s3/projet-poc-aida/rp/individus.csv | grep \"Total Size\""
   ]
  },
  {
   "cell_type": "code",
   "execution_count": 6,
   "id": "d9d0b9d7-9b48-4eb2-b982-9d082a4396e2",
   "metadata": {},
   "outputs": [
    {
     "name": "stderr",
     "output_type": "stream",
     "text": [
      "                                                                                \r"
     ]
    },
    {
     "data": {
      "text/plain": [
       "50000000"
      ]
     },
     "execution_count": 6,
     "metadata": {},
     "output_type": "execute_result"
    }
   ],
   "source": [
    "df.count()"
   ]
  },
  {
   "cell_type": "code",
   "execution_count": 7,
   "id": "84433448-d167-490c-9876-da29b94a2481",
   "metadata": {},
   "outputs": [
    {
     "name": "stdout",
     "output_type": "stream",
     "text": [
      "root\n",
      " |-- region_residence: integer (nullable = true)\n",
      " |-- departement_residence: string (nullable = true)\n",
      " |-- commune_residence: string (nullable = true)\n",
      " |-- region_travail: integer (nullable = true)\n",
      " |-- departement_travail: string (nullable = true)\n",
      " |-- commune_travail: string (nullable = true)\n",
      " |-- commune_anterieure: string (nullable = true)\n",
      " |-- commune_etude: string (nullable = true)\n",
      " |-- pays_naissance: integer (nullable = true)\n",
      " |-- poids: double (nullable = true)\n",
      " |-- sexe: integer (nullable = true)\n",
      " |-- statut_pro: string (nullable = true)\n",
      " |-- densite: integer (nullable = true)\n",
      " |-- recherche_emploi: integer (nullable = true)\n",
      " |-- diplome: integer (nullable = true)\n",
      " |-- age: integer (nullable = true)\n",
      " |-- variable00: long (nullable = true)\n",
      " |-- variable01: integer (nullable = true)\n",
      " |-- variable02: integer (nullable = true)\n",
      " |-- variable03: integer (nullable = true)\n",
      " |-- variable04: double (nullable = true)\n",
      " |-- variable05: double (nullable = true)\n",
      " |-- variable06: integer (nullable = true)\n",
      " |-- variable07: integer (nullable = true)\n",
      " |-- variable08: integer (nullable = true)\n",
      " |-- variable09: integer (nullable = true)\n",
      " |-- variable10: integer (nullable = true)\n",
      " |-- variable11: integer (nullable = true)\n",
      " |-- variable12: integer (nullable = true)\n",
      " |-- variable13: integer (nullable = true)\n",
      " |-- variable14: integer (nullable = true)\n",
      " |-- variable15: integer (nullable = true)\n",
      " |-- variable16: integer (nullable = true)\n",
      " |-- variable17: integer (nullable = true)\n",
      " |-- variable18: integer (nullable = true)\n",
      " |-- variable19: integer (nullable = true)\n",
      " |-- variable20: integer (nullable = true)\n",
      " |-- variable21: integer (nullable = true)\n",
      " |-- variable22: integer (nullable = true)\n",
      " |-- variable23: integer (nullable = true)\n",
      " |-- variable24: integer (nullable = true)\n",
      " |-- variable25: string (nullable = true)\n",
      " |-- variable26: integer (nullable = true)\n",
      " |-- variable27: integer (nullable = true)\n",
      " |-- variable28: integer (nullable = true)\n",
      " |-- variable29: integer (nullable = true)\n",
      " |-- variable30: integer (nullable = true)\n",
      " |-- variable31: integer (nullable = true)\n",
      " |-- variable32: string (nullable = true)\n",
      " |-- variable33: string (nullable = true)\n",
      " |-- variable34: string (nullable = true)\n",
      " |-- variable35: integer (nullable = true)\n",
      " |-- variable36: integer (nullable = true)\n",
      " |-- variable37: integer (nullable = true)\n",
      " |-- variable38: integer (nullable = true)\n",
      " |-- variable39: integer (nullable = true)\n",
      " |-- variable40: string (nullable = true)\n",
      " |-- variable41: string (nullable = true)\n",
      " |-- variable42: integer (nullable = true)\n",
      " |-- variable43: integer (nullable = true)\n",
      " |-- variable44: integer (nullable = true)\n",
      " |-- variable45: integer (nullable = true)\n",
      " |-- variable46: integer (nullable = true)\n",
      " |-- variable47: integer (nullable = true)\n",
      " |-- variable48: integer (nullable = true)\n",
      " |-- variable49: integer (nullable = true)\n",
      "\n"
     ]
    }
   ],
   "source": [
    "df.printSchema()"
   ]
  },
  {
   "cell_type": "code",
   "execution_count": 8,
   "id": "d2835d4f-f6e3-47cd-8353-3263bae3ba5f",
   "metadata": {},
   "outputs": [
    {
     "name": "stdout",
     "output_type": "stream",
     "text": [
      "Data partition number: 109\n"
     ]
    }
   ],
   "source": [
    "partition_number=df.rdd.getNumPartitions()\n",
    "print(f\"Data partition number: {partition_number}\")"
   ]
  },
  {
   "cell_type": "code",
   "execution_count": 9,
   "id": "2cc13abd-cc24-436d-8582-5c2f6f272b2a",
   "metadata": {},
   "outputs": [
    {
     "name": "stderr",
     "output_type": "stream",
     "text": [
      "                                                                                \r"
     ]
    }
   ],
   "source": [
    "output_file=\"individus_snappy_parquet\"\n",
    "\n",
    "output_path=f\"{work_dir}/{output_file}\"\n",
    "\n",
    "df.write.mode(\"overwrite\").parquet(output_path)"
   ]
  },
  {
   "cell_type": "code",
   "execution_count": 11,
   "id": "79259771-c758-4d27-ab63-6ae7698b7ad0",
   "metadata": {},
   "outputs": [
    {
     "name": "stdout",
     "output_type": "stream",
     "text": [
      "Total Size: 1.1 GiB\n"
     ]
    }
   ],
   "source": [
    "! mc ls --summarize s3/projet-poc-aida/rp/individus_snappy_parquet | grep \"Total Size\""
   ]
  },
  {
   "cell_type": "code",
   "execution_count": null,
   "id": "926a7108-9342-4888-986f-eef9106b2fe9",
   "metadata": {},
   "outputs": [],
   "source": []
  }
 ],
 "metadata": {
  "kernelspec": {
   "display_name": "Python 3 (ipykernel)",
   "language": "python",
   "name": "python3"
  },
  "language_info": {
   "codemirror_mode": {
    "name": "ipython",
    "version": 3
   },
   "file_extension": ".py",
   "mimetype": "text/x-python",
   "name": "python",
   "nbconvert_exporter": "python",
   "pygments_lexer": "ipython3",
   "version": "3.9.7"
  }
 },
 "nbformat": 4,
 "nbformat_minor": 5
}
